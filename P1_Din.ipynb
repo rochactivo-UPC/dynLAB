{
  "nbformat": 4,
  "nbformat_minor": 0,
  "metadata": {
    "colab": {
      "provenance": [],
      "authorship_tag": "ABX9TyMFkavklg5s2diZ3jB02u8a",
      "include_colab_link": true
    },
    "kernelspec": {
      "name": "python3",
      "display_name": "Python 3"
    },
    "language_info": {
      "name": "python"
    }
  },
  "cells": [
    {
      "cell_type": "markdown",
      "metadata": {
        "id": "view-in-github",
        "colab_type": "text"
      },
      "source": [
        "<a href=\"https://colab.research.google.com/github/rochactivo-UPC/dynLAB/blob/main/P1_Din.ipynb\" target=\"_parent\"><img src=\"https://colab.research.google.com/assets/colab-badge.svg\" alt=\"Open In Colab\"/></a>"
      ]
    },
    {
      "cell_type": "markdown",
      "source": [
        "# Práctica 1 Laboratorio de Dinámica\n",
        "prof. Rodrigo Alva, PhD."
      ],
      "metadata": {
        "id": "jup2r5CoCClU"
      }
    },
    {
      "cell_type": "markdown",
      "source": [
        "#1 Importar librerías necesarias:\n",
        "Importar librerías necesarias: Necesitarás librerías como NumPy para manipulación de arrays, Matplotlib para gráficas, y SciPy para integración."
      ],
      "metadata": {
        "id": "EahjfSyrvSPc"
      }
    },
    {
      "cell_type": "code",
      "source": [
        "import numpy as np\n",
        "import matplotlib.pyplot as plt\n",
        "from scipy.integrate import cumtrapz\n",
        "import pandas as pd"
      ],
      "metadata": {
        "id": "bOjDxAFZvT7D"
      },
      "execution_count": 1,
      "outputs": []
    },
    {
      "cell_type": "markdown",
      "source": [
        "#2 Cargar los datos:\n",
        "Puedes subir los archivos con tus datos de señales de aceleración directamente a Colab o cargarlos desde Google Drive si los tienes almacenados allí.\n",
        "Para leer los datos de aceleración utiliza, por ejemplo, numpy.loadtxt o pandas.read_csv\n",
        "\n",
        "(archivos v09808.020 y v09808.093)"
      ],
      "metadata": {
        "id": "U6NzT-EMvZWS"
      }
    },
    {
      "cell_type": "code",
      "source": [
        "# Ejemplo de carga de datos desde un archivo CSV\n",
        "# Asegúrate de haber subido el archivo a tu entorno de Colab primero\n",
        "file_path = '/content/v09808.020'\n",
        "datos = pd.read_csv(file_path, sep='\\t', header=None, names=['tiempo', 'aceleracion'])"
      ],
      "metadata": {
        "id": "V1u5bpEovjUe"
      },
      "execution_count": 3,
      "outputs": []
    },
    {
      "cell_type": "markdown",
      "source": [
        "Previsualizar los datos para verificar que se cargaron correctamente"
      ],
      "metadata": {
        "id": "N2dvLR7B-EeL"
      }
    },
    {
      "cell_type": "code",
      "source": [
        "datos.head()"
      ],
      "metadata": {
        "id": "PDquvzFR917f"
      },
      "execution_count": null,
      "outputs": []
    },
    {
      "source": [
        "# Cambiar unidades\n",
        "datos['aceleracion'] = datos['aceleracion']*9.81\n",
        "\n",
        "# Visualizar el resultado de la integración\n",
        "plt.figure(figsize=(10, 6))\n",
        "plt.plot(datos['tiempo'], datos['aceleracion'])\n",
        "plt.xlabel('Tiempo (s)')\n",
        "plt.ylabel('Aceleración (m/s)')\n",
        "plt.title('Aceleración')\n",
        "plt.grid(True)\n",
        "plt.show()\n"
      ],
      "cell_type": "code",
      "execution_count": null,
      "outputs": [],
      "metadata": {
        "id": "lDB3qFSZ_Jgx"
      }
    },
    {
      "cell_type": "markdown",
      "source": [
        "#4 Integración en el tiempo\n",
        "Para computar a partir de los datos de aceleración la velocidad y desplazamiento hay que integrar en el tiempo.\n",
        "\n",
        "La velocidad inicial en el momento del impacto es 56.17 km/h [= 15.60 m/s] como detalla la página (iii) del reporte en pdf, esta constante de integración debe considerarse en la primera integración\n"
      ],
      "metadata": {
        "id": "bFiMpl-G7LgY"
      }
    },
    {
      "cell_type": "code",
      "source": [
        "velocidadInicial = 15.6 #m/s\n",
        "\n",
        "velocidad = cumtrapz(datos['aceleracion'], datos['tiempo'], initial=0)\n",
        "velocidad += velocidadInicial\n",
        "\n",
        "# Visualizar el resultado de la integración\n",
        "plt.figure(figsize=(10, 6))\n",
        "plt.plot(datos['tiempo'], velocidad)\n",
        "plt.xlabel('Tiempo (s)')\n",
        "plt.ylabel('Velocidad (m/s)')\n",
        "plt.title('Velocidad')\n",
        "plt.grid(True)\n",
        "plt.show()\n"
      ],
      "metadata": {
        "id": "LqKDAH617QjS"
      },
      "execution_count": null,
      "outputs": []
    },
    {
      "cell_type": "code",
      "source": [
        "desplazamiento = cumtrapz(velocidad, datos['tiempo'], initial=0)\n",
        "\n",
        "# Visualizar el resultado de la integración\n",
        "plt.figure(figsize=(10, 6))\n",
        "plt.plot(datos['tiempo'], desplazamiento)\n",
        "plt.xlabel('Tiempo (s)')\n",
        "plt.ylabel('Desplazamiento (m)')\n",
        "plt.title('Desplazamiento')\n",
        "plt.grid(True)\n",
        "plt.show()"
      ],
      "metadata": {
        "id": "WdseCwx58zaG"
      },
      "execution_count": null,
      "outputs": []
    }
  ]
}
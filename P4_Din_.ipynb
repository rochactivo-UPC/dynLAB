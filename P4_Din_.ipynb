{
  "nbformat": 4,
  "nbformat_minor": 0,
  "metadata": {
    "colab": {
      "provenance": [],
      "toc_visible": true,
      "authorship_tag": "ABX9TyPZ8mKN1uAa11pXcFORuooX",
      "include_colab_link": true
    },
    "kernelspec": {
      "name": "python3",
      "display_name": "Python 3"
    },
    "language_info": {
      "name": "python"
    }
  },
  "cells": [
    {
      "cell_type": "markdown",
      "metadata": {
        "id": "view-in-github",
        "colab_type": "text"
      },
      "source": [
        "<a href=\"https://colab.research.google.com/github/rochactivo-UPC/dynLAB/blob/main/P4_Din_.ipynb\" target=\"_parent\"><img src=\"https://colab.research.google.com/assets/colab-badge.svg\" alt=\"Open In Colab\"/></a>"
      ]
    },
    {
      "cell_type": "markdown",
      "source": [
        "# Práctica 4.  Sistemas de referencia no-inerciales\n"
      ],
      "metadata": {
        "id": "eeiA5SKZUkh9"
      }
    },
    {
      "cell_type": "markdown",
      "source": [
        "## Inicio: Librerías y datos necesarios"
      ],
      "metadata": {
        "id": "xoff_KSq5oiq"
      }
    },
    {
      "cell_type": "code",
      "execution_count": null,
      "metadata": {
        "id": "TfERYB4KSZCn"
      },
      "outputs": [],
      "source": [
        "import pandas as pd\n",
        "import numpy as np\n",
        "from scipy.integrate import cumtrapz\n",
        "\n",
        "# URL del archivo CSV en el repositorio de GitHub\n",
        "url = 'https://github.com/rochactivo-UPC/dynLAB/raw/main/P4/P4_Data.csv'\n",
        "\n",
        "# Descargar el archivo CSV e importarlo en un DataFrame de Pandas\n",
        "df = pd.read_csv(url, header=0, sep='\\s+')"
      ]
    },
    {
      "cell_type": "markdown",
      "source": [
        "### Las funciones para estimar el HIC, r_0 y GHIC se muestran aquí:"
      ],
      "metadata": {
        "id": "HGKIvGihmbL8"
      }
    },
    {
      "cell_type": "code",
      "source": [
        "import numpy as np\n",
        "from scipy.integrate import simps\n",
        "from numpy.linalg import norm\n",
        "\n",
        "def calculate_ghic(a, alpha, omega, r0, time, delta_t=0.015, g=9.81):\n",
        "    \"\"\"\n",
        "    Calculate the Generalized Head Injury Criterion (GHIC) for a given set of linear acceleration (a),\n",
        "    angular velocity (omega), angular acceleration (alpha), initial position (r0), and time data.\n",
        "\n",
        "    Parameters:\n",
        "    - a: Numpy array of linear acceleration vectors.\n",
        "    - alpha: Numpy array of angular acceleration vectors.\n",
        "    - omega: Numpy array of angular velocity vectors.\n",
        "    - r0: Numpy array of position vector.\n",
        "    - time: Numpy array of time values.\n",
        "    - delta_t: Time interval for GHIC calculation (default is 0.015s or 15ms).\n",
        "\n",
        "    Returns:\n",
        "    - The GHIC value.\n",
        "    \"\"\"\n",
        "    # Number of time steps\n",
        "    n = len(time)\n",
        "    ghic_max = 0\n",
        "\n",
        "    a = a/g\n",
        "    omega = omega\n",
        "    alpha = alpha\n",
        "\n",
        "\n",
        "    # Iterate through each time step\n",
        "    for start_index in range(n):\n",
        "        # Find the end index such that the time difference is approximately delta_t\n",
        "        end_index = start_index\n",
        "        while end_index < n and (time[end_index] - time[start_index]) < delta_t:\n",
        "            end_index += 1\n",
        "\n",
        "        # If the time window is exactly delta_t, calculate the GHIC for this window\n",
        "        if end_index < n and np.isclose(time[end_index] - time[start_index], delta_t, atol=1e-4):\n",
        "            # Calculate the integral part of the formula for this window\n",
        "            integrand = np.zeros(3)  # Initialize the integrand vector\n",
        "            for i in range(start_index, end_index):\n",
        "                integrand += (a[i] + np.cross(alpha[i], r0[i]) + np.cross(omega[i], np.cross(omega[i], r0[i]))) * (time[i+1] - time[i])\n",
        "                # integrand += (a[i]) * (time[i+1] - time[i])\n",
        "            # Calculate the GHIC value for this window\n",
        "            ghic_candidate = (norm(integrand) / delta_t) ** 2.5 * delta_t\n",
        "            # Update the maximum GHIC value\n",
        "            ghic_max = max(ghic_max, ghic_candidate)\n",
        "\n",
        "    return ghic_max\n",
        "\n",
        "# Example usage:\n",
        "# a = np.array(...)     # Your linear acceleration data as an array of vectors\n",
        "# alpha = np.array(...) # Your angular acceleration data as an array of vectors\n",
        "# omega = np.array(...) # Your angular velocity data as an array of vectors\n",
        "# r0 = np.array(...)    # Your initial position vector\n",
        "# time = np.array(...)  # Your time data as a 1D array\n",
        "# ghic_value = calculate_ghic(a, alpha, omega, r0, time)\n",
        "# print(\"GHIC value:\", ghic_value)\n"
      ],
      "metadata": {
        "id": "XhieQFfdsQ6O"
      },
      "execution_count": null,
      "outputs": []
    },
    {
      "cell_type": "code",
      "source": [
        "import numpy as np\n",
        "\n",
        "def calculate_r0(omega, v):\n",
        "    \"\"\"\n",
        "    Calculate the initial position vector r0 based on the angular velocity vectors omega and\n",
        "    the linear velocity vectors v for each timestep.\n",
        "\n",
        "    Parameters:\n",
        "    - omega: Numpy array of shape (N, 3) representing the angular velocity vectors.\n",
        "    - v: Numpy array of shape (N, 3) representing the linear velocity vectors.\n",
        "\n",
        "    Returns:\n",
        "    - r0: Numpy array of shape (N, 3) representing the initial position vectors.\n",
        "    \"\"\"\n",
        "    # Calculate the magnitude squared of the angular velocity vector for each timestep\n",
        "    omega_magnitude_squared = np.sum(omega**2, axis=1)\n",
        "\n",
        "    # Replace zeros in omega_magnitude_squared to avoid division by zero\n",
        "    omega_magnitude_squared[omega_magnitude_squared == 0] = np.nan\n",
        "\n",
        "    # Calculate the cross product of omega and v for each timestep\n",
        "    cross_product = np.cross(omega, v, axis=1)\n",
        "\n",
        "    # Calculate r0 for each timestep using the cross product divided by the magnitude squared of omega\n",
        "    r0 = cross_product / omega_magnitude_squared[:, np.newaxis]\n",
        "\n",
        "    return r0\n",
        "\n",
        "# Example usage:\n",
        "# Assume that 'omega' and 'v' are already defined as numpy arrays of shape (N, 3)\n",
        "# omega = np.array(...)  # Replace with your (N, 3) array of angular velocity vectors\n",
        "# v = np.array(...)      # Replace with your (N, 3) array of linear velocity vectors\n",
        "# r0 = calculate_r0(omega, v)"
      ],
      "metadata": {
        "id": "RDmgtMtd4XF6"
      },
      "execution_count": null,
      "outputs": []
    },
    {
      "cell_type": "code",
      "source": [
        "import numpy as np\n",
        "from scipy.integrate import simps\n",
        "\n",
        "def calculate_hic(acceleration, time, g=9.81):\n",
        "    \"\"\"\n",
        "    Calculate the Head Injury Criterion (HIC) for a given set of acceleration data over time.\n",
        "\n",
        "    Parameters:\n",
        "    - acceleration: array of acceleration values\n",
        "    - time: array of time values\n",
        "    - g: gravity (m/s/s)\n",
        "\n",
        "    Returns:\n",
        "    - The HIC value.\n",
        "    \"\"\"\n",
        "    acceleration = acceleration/g\n",
        "\n",
        "    # Inicializar la variable HIC a un número muy pequeño\n",
        "    hic = 0\n",
        "    # El tiempo de integración debe ser menor o igual a 15 ms\n",
        "    delta_t = 0.015\n",
        "    # Calcular la integral de la aceleración para cada intervalo de tiempo posible\n",
        "    for start in range(len(time)):\n",
        "        for end in range(start + 1, len(time)):\n",
        "            if time[end] - time[start] <= delta_t:\n",
        "                # Integrar la aceleración en el intervalo de tiempo dado\n",
        "                integral = simps(acceleration[start:end+1], time[start:end+1])\n",
        "                # Calcular el valor de HIC para este intervalo y elevarlo a 2.5\n",
        "                hic_candidate = (integral / (time[end] - time[start])) ** 2.5 * (time[end] - time[start])\n",
        "                # Actualizar HIC si encontramos un valor más grande\n",
        "                hic = max(hic, hic_candidate)\n",
        "\n",
        "    return hic"
      ],
      "metadata": {
        "id": "RfvljqWzX7LW"
      },
      "execution_count": null,
      "outputs": []
    },
    {
      "cell_type": "markdown",
      "source": [
        "## a) Cálculo de la matriz de velocidad angular $Ω_t$  a partir de los datos experimentales, integración numérica para obtener la matriz de rotación $R_t$\n",
        "La matriz de rotación $R_t$ ser determina a partir de la matriz de velocidad angular en sistema inercial, definida como $\\Omega_t = \\dot R_t R_t $\n"
      ],
      "metadata": {
        "id": "K3xHe3acj1Ru"
      }
    },
    {
      "cell_type": "markdown",
      "source": [
        "## b)\tCálculo de la aceleración de la cabeza respecto al sistema de referencia inercial dado por el suelo.\n",
        "Utilizando la matriz de rotación calculada en función del tiempo en el apartado anterior es posible convertir las aceleraciones del sistema no inercial a un sistema inercial\n",
        "Para llevar del sistema no inercial (cabeza) al sistema inercial (suelo) se deberá rotar el vector de aceleración. La primer componente rotada del vector aceleración se estima como:\n",
        "\n",
        "$$A_ix=R11*Ax+R12*Ay+R13*Az$$\n"
      ],
      "metadata": {
        "id": "vJuezICfrWzk"
      }
    },
    {
      "cell_type": "code",
      "source": [],
      "metadata": {
        "id": "tTyjg6JWWOmU"
      },
      "execution_count": null,
      "outputs": []
    },
    {
      "cell_type": "markdown",
      "source": [
        "Determinación del la velocidad angular en sistema inercial (en laboratorio)\n"
      ],
      "metadata": {
        "id": "LSx4M0Dzlckz"
      }
    },
    {
      "cell_type": "code",
      "source": [],
      "metadata": {
        "id": "o5l1qJFpk96U"
      },
      "execution_count": null,
      "outputs": []
    },
    {
      "cell_type": "markdown",
      "source": [
        "Determinación de la aceleración angular en sistema inercial (en laboratorio)"
      ],
      "metadata": {
        "id": "wd0GCwpgljfa"
      }
    },
    {
      "cell_type": "code",
      "source": [],
      "metadata": {
        "id": "UkGN8Pzek66-"
      },
      "execution_count": null,
      "outputs": []
    },
    {
      "cell_type": "markdown",
      "source": [
        "## c)\tDeterminación del HIC y predicción de efectos lesivos a partir del HIC (En casa)\n",
        "Utilizando la ecuación conocida de las tres prácticas anteriores calcular el valor de HIC (En casa)"
      ],
      "metadata": {
        "id": "CyRfZKFdrvOS"
      }
    },
    {
      "cell_type": "code",
      "source": [
        "HIC = calculate_hic(Ai, time)"
      ],
      "metadata": {
        "id": "MlNNw1sdzKRK"
      },
      "execution_count": null,
      "outputs": []
    },
    {
      "cell_type": "code",
      "source": [
        "g = 9.81\n",
        "Ai = np.sqrt((df['Aix'])**2 + (df['Aiy'])**2 + (df['Aiz'])**2)\n",
        "time = df['t'].to_numpy()"
      ],
      "metadata": {
        "id": "NRonh82Cr5eI"
      },
      "execution_count": null,
      "outputs": []
    },
    {
      "cell_type": "markdown",
      "source": [
        "## d)\tDeterminación del GHIC y predicción de los efectos lesivos a partir del GHIC (En casa)\n",
        "para el cálculo de la distancia entre el eje de rotación y el centro de gravedad de la cabeza se usará $ \\vec r_0 = ( \\vec ω × \\vec v )⁄‖\\vec ω ‖^2 $, utilizar la función calculate_r0(omega, v) para ello. Obsérvese que la ecuación del HIC es un caso particular de la ecuación del GHIC eliminando los términos de información rotacional."
      ],
      "metadata": {
        "id": "hkOj6x8_r9hF"
      }
    },
    {
      "cell_type": "markdown",
      "source": [
        "calculo de $ω$"
      ],
      "metadata": {
        "id": "8KOAv5Uh5PQt"
      }
    },
    {
      "cell_type": "code",
      "source": [
        "omega = df[['wix','wiy','wiz']].to_numpy()\n",
        "\n",
        "df['vx'] = cumtrapz(df['Aix'], df['t'], initial=0)\n",
        "df['vy'] = cumtrapz(df['Aiy'], df['t'], initial=0)\n",
        "df['vz'] = cumtrapz(df['Aiy'], df['t'], initial=0)"
      ],
      "metadata": {
        "id": "2EiZrxqf4tP6"
      },
      "execution_count": null,
      "outputs": []
    },
    {
      "cell_type": "code",
      "source": [
        "v = df[['vx','vy','vz']].to_numpy()\n",
        "r0 = calculate_r0(omega, v)\n",
        "# print(\"El vector r0 es:\", r0)\n"
      ],
      "metadata": {
        "id": "7GccwkoHnAhZ"
      },
      "execution_count": null,
      "outputs": []
    },
    {
      "cell_type": "code",
      "source": [
        "a = df[['Aix', 'Aiy', 'Aiz']].to_numpy()\n",
        "alpha = df[['aix', 'aiy', 'aiz']].to_numpy()"
      ],
      "metadata": {
        "id": "tz6fqV253Z7F"
      },
      "execution_count": null,
      "outputs": []
    },
    {
      "cell_type": "code",
      "source": [
        "ghic_value = calculate_ghic(a=a, alpha=alpha, omega=omega, r0=r0, time=time, delta_t=0.15, g=9.81)\n",
        "print(\"GHIC value:\", ghic_value)"
      ],
      "metadata": {
        "colab": {
          "base_uri": "https://localhost:8080/"
        },
        "id": "U3RZW3I_3cZX",
        "outputId": "9c8d608f-9211-418c-d8d7-0f28c2ca51e0"
      },
      "execution_count": null,
      "outputs": [
        {
          "output_type": "stream",
          "name": "stdout",
          "text": [
            "GHIC value: 29385.41076787255\n"
          ]
        }
      ]
    },
    {
      "cell_type": "markdown",
      "source": [
        "# Tareas a realizar, presentación del informe:"
      ],
      "metadata": {
        "id": "7q8GODubsx5q"
      }
    },
    {
      "cell_type": "markdown",
      "source": [
        "1) Representar las 3 componentes independientes de $Ω_t$ y las 6 componentes independientes de $R_t$ (dos gráficos uno para conjunto de componentes)."
      ],
      "metadata": {
        "id": "GivFGnbPs0Q9"
      }
    },
    {
      "cell_type": "code",
      "source": [],
      "metadata": {
        "id": "zGQ_a5NnlYFF"
      },
      "execution_count": null,
      "outputs": []
    },
    {
      "cell_type": "markdown",
      "source": [
        "2) Presentar tres conjuntos de gráficas: para la aceleración $a ⃗_{ni} (t)$ (3 componentes) y $a ⃗_i (t)$ (3 componentes), compara los módulos de las aceleraciones obtenidas."
      ],
      "metadata": {
        "id": "Aqfy4W8YV_7m"
      }
    },
    {
      "cell_type": "code",
      "source": [],
      "metadata": {
        "id": "0hOGJPeqtaE1"
      },
      "execution_count": null,
      "outputs": []
    },
    {
      "cell_type": "markdown",
      "source": [
        "3) \tUsar la aceleración $a ⃗_i (t)$ obtenida para estimar una cota superior de HIC (Head Injury Criterion), tal como se hizo en la práctica 3."
      ],
      "metadata": {
        "id": "hzl96PR7taYg"
      }
    },
    {
      "cell_type": "code",
      "source": [],
      "metadata": {
        "id": "4DMoe3kvtjNm"
      },
      "execution_count": null,
      "outputs": []
    },
    {
      "cell_type": "markdown",
      "source": [
        "4) Usar la aceleración $a ⃗_i (t)$ y la velocidad angular $ω ⃗(t)$ para computar una cota superior del GHIC (Generalized Head Injury Criterion). Comentar los resultados comparados de 3 y 4."
      ],
      "metadata": {
        "id": "usjp0zogtjnf"
      }
    },
    {
      "cell_type": "code",
      "source": [],
      "metadata": {
        "id": "DwKPl0m5uGxj"
      },
      "execution_count": null,
      "outputs": []
    },
    {
      "cell_type": "markdown",
      "source": [
        "5) Explicar por qué para simular los esfuerzos en el cerebro necesitamos la aceleración respecto al suelo $a ⃗_i (t)$ y no podemos hacer servir directamente $a ⃗_{ni}$."
      ],
      "metadata": {
        "id": "Fo6SjaqMt1Oi"
      }
    },
    {
      "cell_type": "markdown",
      "source": [],
      "metadata": {
        "id": "VKZ6lclLuHjA"
      }
    }
  ]
}
{
  "nbformat": 4,
  "nbformat_minor": 0,
  "metadata": {
    "colab": {
      "provenance": [],
      "authorship_tag": "ABX9TyNSlYgOmyL5b2HXxIfhEL/l",
      "include_colab_link": true
    },
    "kernelspec": {
      "name": "python3",
      "display_name": "Python 3"
    },
    "language_info": {
      "name": "python"
    }
  },
  "cells": [
    {
      "cell_type": "markdown",
      "metadata": {
        "id": "view-in-github",
        "colab_type": "text"
      },
      "source": [
        "<a href=\"https://colab.research.google.com/github/rochactivo-UPC/dynLAB/blob/main/P4_Din_.ipynb\" target=\"_parent\"><img src=\"https://colab.research.google.com/assets/colab-badge.svg\" alt=\"Open In Colab\"/></a>"
      ]
    },
    {
      "cell_type": "markdown",
      "source": [
        "# Práctica 4.  Sistemas de referencia no-inerciales\n"
      ],
      "metadata": {
        "id": "eeiA5SKZUkh9"
      }
    },
    {
      "cell_type": "markdown",
      "source": [
        "## Inicio: Librerías y datos necesarios"
      ],
      "metadata": {
        "id": "xoff_KSq5oiq"
      }
    },
    {
      "cell_type": "code",
      "execution_count": 16,
      "metadata": {
        "id": "TfERYB4KSZCn"
      },
      "outputs": [],
      "source": [
        "import pandas as pd\n",
        "import numpy as np\n",
        "from scipy.integrate import cumtrapz\n",
        "\n",
        "# URL del archivo CSV en el repositorio de GitHub\n",
        "url = 'https://raw.githubusercontent.com/rochactivo-UPC/dynLAB/main/P4/P4_Data.csv'\n",
        "\n",
        "# Descargar el archivo CSV e importarlo en un DataFrame de Pandas\n",
        "df = pd.read_csv(url, header=0, sep='\\s+')\n",
        "\n",
        "# Unidades en m/s2"
      ]
    },
    {
      "cell_type": "code",
      "source": [
        "df.head()"
      ],
      "metadata": {
        "id": "nKzJACuu6ydH",
        "outputId": "dec6f947-b1eb-4089-e923-a0bbe236736a",
        "colab": {
          "base_uri": "https://localhost:8080/",
          "height": 206
        }
      },
      "execution_count": 17,
      "outputs": [
        {
          "output_type": "execute_result",
          "data": {
            "text/plain": [
              "        t     Ax     Ay      Az      wx      wy      wz      ax      ay  \\\n",
              "0  0.0000 -4.478 -6.935   5.672  0.0307  0.7855  0.0563  0.0000  0.0000   \n",
              "1  0.0001 -4.784 -7.107   0.904  0.0292  0.7562  0.0669 -0.0156 -0.2936   \n",
              "2  0.0002 -3.494 -5.802  -4.093  0.0244  0.7424  0.0597 -0.0481 -0.1374   \n",
              "3  0.0003 -2.259 -2.949  -7.271  0.0610  0.7720  0.0146  0.3658  0.2958   \n",
              "4  0.0004 -2.684  0.420 -11.451  0.1431  0.8430 -0.0800  0.8212  0.7095   \n",
              "\n",
              "       az  R11  R12  R13  R21  R22  R23  R31  R32  R33  \n",
              "0  0.0000  1.0  0.0  0.0  0.0  1.0  0.0  0.0  0.0  1.0  \n",
              "1  0.1063  1.0  0.0  0.0  0.0  1.0  0.0  0.0  0.0  1.0  \n",
              "2 -0.0726  1.0  0.0  0.0  0.0  1.0  0.0  0.0  0.0  1.0  \n",
              "3 -0.4508  1.0  0.0  0.0  0.0  1.0  0.0  0.0  0.0  1.0  \n",
              "4 -0.9454  1.0  0.0  0.0  0.0  1.0  0.0  0.0  0.0  1.0  "
            ],
            "text/html": [
              "\n",
              "  <div id=\"df-5f0cd666-7d19-4de0-b9a3-4660f3d40e37\" class=\"colab-df-container\">\n",
              "    <div>\n",
              "<style scoped>\n",
              "    .dataframe tbody tr th:only-of-type {\n",
              "        vertical-align: middle;\n",
              "    }\n",
              "\n",
              "    .dataframe tbody tr th {\n",
              "        vertical-align: top;\n",
              "    }\n",
              "\n",
              "    .dataframe thead th {\n",
              "        text-align: right;\n",
              "    }\n",
              "</style>\n",
              "<table border=\"1\" class=\"dataframe\">\n",
              "  <thead>\n",
              "    <tr style=\"text-align: right;\">\n",
              "      <th></th>\n",
              "      <th>t</th>\n",
              "      <th>Ax</th>\n",
              "      <th>Ay</th>\n",
              "      <th>Az</th>\n",
              "      <th>wx</th>\n",
              "      <th>wy</th>\n",
              "      <th>wz</th>\n",
              "      <th>ax</th>\n",
              "      <th>ay</th>\n",
              "      <th>az</th>\n",
              "      <th>R11</th>\n",
              "      <th>R12</th>\n",
              "      <th>R13</th>\n",
              "      <th>R21</th>\n",
              "      <th>R22</th>\n",
              "      <th>R23</th>\n",
              "      <th>R31</th>\n",
              "      <th>R32</th>\n",
              "      <th>R33</th>\n",
              "    </tr>\n",
              "  </thead>\n",
              "  <tbody>\n",
              "    <tr>\n",
              "      <th>0</th>\n",
              "      <td>0.0000</td>\n",
              "      <td>-4.478</td>\n",
              "      <td>-6.935</td>\n",
              "      <td>5.672</td>\n",
              "      <td>0.0307</td>\n",
              "      <td>0.7855</td>\n",
              "      <td>0.0563</td>\n",
              "      <td>0.0000</td>\n",
              "      <td>0.0000</td>\n",
              "      <td>0.0000</td>\n",
              "      <td>1.0</td>\n",
              "      <td>0.0</td>\n",
              "      <td>0.0</td>\n",
              "      <td>0.0</td>\n",
              "      <td>1.0</td>\n",
              "      <td>0.0</td>\n",
              "      <td>0.0</td>\n",
              "      <td>0.0</td>\n",
              "      <td>1.0</td>\n",
              "    </tr>\n",
              "    <tr>\n",
              "      <th>1</th>\n",
              "      <td>0.0001</td>\n",
              "      <td>-4.784</td>\n",
              "      <td>-7.107</td>\n",
              "      <td>0.904</td>\n",
              "      <td>0.0292</td>\n",
              "      <td>0.7562</td>\n",
              "      <td>0.0669</td>\n",
              "      <td>-0.0156</td>\n",
              "      <td>-0.2936</td>\n",
              "      <td>0.1063</td>\n",
              "      <td>1.0</td>\n",
              "      <td>0.0</td>\n",
              "      <td>0.0</td>\n",
              "      <td>0.0</td>\n",
              "      <td>1.0</td>\n",
              "      <td>0.0</td>\n",
              "      <td>0.0</td>\n",
              "      <td>0.0</td>\n",
              "      <td>1.0</td>\n",
              "    </tr>\n",
              "    <tr>\n",
              "      <th>2</th>\n",
              "      <td>0.0002</td>\n",
              "      <td>-3.494</td>\n",
              "      <td>-5.802</td>\n",
              "      <td>-4.093</td>\n",
              "      <td>0.0244</td>\n",
              "      <td>0.7424</td>\n",
              "      <td>0.0597</td>\n",
              "      <td>-0.0481</td>\n",
              "      <td>-0.1374</td>\n",
              "      <td>-0.0726</td>\n",
              "      <td>1.0</td>\n",
              "      <td>0.0</td>\n",
              "      <td>0.0</td>\n",
              "      <td>0.0</td>\n",
              "      <td>1.0</td>\n",
              "      <td>0.0</td>\n",
              "      <td>0.0</td>\n",
              "      <td>0.0</td>\n",
              "      <td>1.0</td>\n",
              "    </tr>\n",
              "    <tr>\n",
              "      <th>3</th>\n",
              "      <td>0.0003</td>\n",
              "      <td>-2.259</td>\n",
              "      <td>-2.949</td>\n",
              "      <td>-7.271</td>\n",
              "      <td>0.0610</td>\n",
              "      <td>0.7720</td>\n",
              "      <td>0.0146</td>\n",
              "      <td>0.3658</td>\n",
              "      <td>0.2958</td>\n",
              "      <td>-0.4508</td>\n",
              "      <td>1.0</td>\n",
              "      <td>0.0</td>\n",
              "      <td>0.0</td>\n",
              "      <td>0.0</td>\n",
              "      <td>1.0</td>\n",
              "      <td>0.0</td>\n",
              "      <td>0.0</td>\n",
              "      <td>0.0</td>\n",
              "      <td>1.0</td>\n",
              "    </tr>\n",
              "    <tr>\n",
              "      <th>4</th>\n",
              "      <td>0.0004</td>\n",
              "      <td>-2.684</td>\n",
              "      <td>0.420</td>\n",
              "      <td>-11.451</td>\n",
              "      <td>0.1431</td>\n",
              "      <td>0.8430</td>\n",
              "      <td>-0.0800</td>\n",
              "      <td>0.8212</td>\n",
              "      <td>0.7095</td>\n",
              "      <td>-0.9454</td>\n",
              "      <td>1.0</td>\n",
              "      <td>0.0</td>\n",
              "      <td>0.0</td>\n",
              "      <td>0.0</td>\n",
              "      <td>1.0</td>\n",
              "      <td>0.0</td>\n",
              "      <td>0.0</td>\n",
              "      <td>0.0</td>\n",
              "      <td>1.0</td>\n",
              "    </tr>\n",
              "  </tbody>\n",
              "</table>\n",
              "</div>\n",
              "    <div class=\"colab-df-buttons\">\n",
              "\n",
              "  <div class=\"colab-df-container\">\n",
              "    <button class=\"colab-df-convert\" onclick=\"convertToInteractive('df-5f0cd666-7d19-4de0-b9a3-4660f3d40e37')\"\n",
              "            title=\"Convert this dataframe to an interactive table.\"\n",
              "            style=\"display:none;\">\n",
              "\n",
              "  <svg xmlns=\"http://www.w3.org/2000/svg\" height=\"24px\" viewBox=\"0 -960 960 960\">\n",
              "    <path d=\"M120-120v-720h720v720H120Zm60-500h600v-160H180v160Zm220 220h160v-160H400v160Zm0 220h160v-160H400v160ZM180-400h160v-160H180v160Zm440 0h160v-160H620v160ZM180-180h160v-160H180v160Zm440 0h160v-160H620v160Z\"/>\n",
              "  </svg>\n",
              "    </button>\n",
              "\n",
              "  <style>\n",
              "    .colab-df-container {\n",
              "      display:flex;\n",
              "      gap: 12px;\n",
              "    }\n",
              "\n",
              "    .colab-df-convert {\n",
              "      background-color: #E8F0FE;\n",
              "      border: none;\n",
              "      border-radius: 50%;\n",
              "      cursor: pointer;\n",
              "      display: none;\n",
              "      fill: #1967D2;\n",
              "      height: 32px;\n",
              "      padding: 0 0 0 0;\n",
              "      width: 32px;\n",
              "    }\n",
              "\n",
              "    .colab-df-convert:hover {\n",
              "      background-color: #E2EBFA;\n",
              "      box-shadow: 0px 1px 2px rgba(60, 64, 67, 0.3), 0px 1px 3px 1px rgba(60, 64, 67, 0.15);\n",
              "      fill: #174EA6;\n",
              "    }\n",
              "\n",
              "    .colab-df-buttons div {\n",
              "      margin-bottom: 4px;\n",
              "    }\n",
              "\n",
              "    [theme=dark] .colab-df-convert {\n",
              "      background-color: #3B4455;\n",
              "      fill: #D2E3FC;\n",
              "    }\n",
              "\n",
              "    [theme=dark] .colab-df-convert:hover {\n",
              "      background-color: #434B5C;\n",
              "      box-shadow: 0px 1px 3px 1px rgba(0, 0, 0, 0.15);\n",
              "      filter: drop-shadow(0px 1px 2px rgba(0, 0, 0, 0.3));\n",
              "      fill: #FFFFFF;\n",
              "    }\n",
              "  </style>\n",
              "\n",
              "    <script>\n",
              "      const buttonEl =\n",
              "        document.querySelector('#df-5f0cd666-7d19-4de0-b9a3-4660f3d40e37 button.colab-df-convert');\n",
              "      buttonEl.style.display =\n",
              "        google.colab.kernel.accessAllowed ? 'block' : 'none';\n",
              "\n",
              "      async function convertToInteractive(key) {\n",
              "        const element = document.querySelector('#df-5f0cd666-7d19-4de0-b9a3-4660f3d40e37');\n",
              "        const dataTable =\n",
              "          await google.colab.kernel.invokeFunction('convertToInteractive',\n",
              "                                                    [key], {});\n",
              "        if (!dataTable) return;\n",
              "\n",
              "        const docLinkHtml = 'Like what you see? Visit the ' +\n",
              "          '<a target=\"_blank\" href=https://colab.research.google.com/notebooks/data_table.ipynb>data table notebook</a>'\n",
              "          + ' to learn more about interactive tables.';\n",
              "        element.innerHTML = '';\n",
              "        dataTable['output_type'] = 'display_data';\n",
              "        await google.colab.output.renderOutput(dataTable, element);\n",
              "        const docLink = document.createElement('div');\n",
              "        docLink.innerHTML = docLinkHtml;\n",
              "        element.appendChild(docLink);\n",
              "      }\n",
              "    </script>\n",
              "  </div>\n",
              "\n",
              "\n",
              "<div id=\"df-9f2c50ef-1d96-4442-a984-0511bbf20449\">\n",
              "  <button class=\"colab-df-quickchart\" onclick=\"quickchart('df-9f2c50ef-1d96-4442-a984-0511bbf20449')\"\n",
              "            title=\"Suggest charts\"\n",
              "            style=\"display:none;\">\n",
              "\n",
              "<svg xmlns=\"http://www.w3.org/2000/svg\" height=\"24px\"viewBox=\"0 0 24 24\"\n",
              "     width=\"24px\">\n",
              "    <g>\n",
              "        <path d=\"M19 3H5c-1.1 0-2 .9-2 2v14c0 1.1.9 2 2 2h14c1.1 0 2-.9 2-2V5c0-1.1-.9-2-2-2zM9 17H7v-7h2v7zm4 0h-2V7h2v10zm4 0h-2v-4h2v4z\"/>\n",
              "    </g>\n",
              "</svg>\n",
              "  </button>\n",
              "\n",
              "<style>\n",
              "  .colab-df-quickchart {\n",
              "      --bg-color: #E8F0FE;\n",
              "      --fill-color: #1967D2;\n",
              "      --hover-bg-color: #E2EBFA;\n",
              "      --hover-fill-color: #174EA6;\n",
              "      --disabled-fill-color: #AAA;\n",
              "      --disabled-bg-color: #DDD;\n",
              "  }\n",
              "\n",
              "  [theme=dark] .colab-df-quickchart {\n",
              "      --bg-color: #3B4455;\n",
              "      --fill-color: #D2E3FC;\n",
              "      --hover-bg-color: #434B5C;\n",
              "      --hover-fill-color: #FFFFFF;\n",
              "      --disabled-bg-color: #3B4455;\n",
              "      --disabled-fill-color: #666;\n",
              "  }\n",
              "\n",
              "  .colab-df-quickchart {\n",
              "    background-color: var(--bg-color);\n",
              "    border: none;\n",
              "    border-radius: 50%;\n",
              "    cursor: pointer;\n",
              "    display: none;\n",
              "    fill: var(--fill-color);\n",
              "    height: 32px;\n",
              "    padding: 0;\n",
              "    width: 32px;\n",
              "  }\n",
              "\n",
              "  .colab-df-quickchart:hover {\n",
              "    background-color: var(--hover-bg-color);\n",
              "    box-shadow: 0 1px 2px rgba(60, 64, 67, 0.3), 0 1px 3px 1px rgba(60, 64, 67, 0.15);\n",
              "    fill: var(--button-hover-fill-color);\n",
              "  }\n",
              "\n",
              "  .colab-df-quickchart-complete:disabled,\n",
              "  .colab-df-quickchart-complete:disabled:hover {\n",
              "    background-color: var(--disabled-bg-color);\n",
              "    fill: var(--disabled-fill-color);\n",
              "    box-shadow: none;\n",
              "  }\n",
              "\n",
              "  .colab-df-spinner {\n",
              "    border: 2px solid var(--fill-color);\n",
              "    border-color: transparent;\n",
              "    border-bottom-color: var(--fill-color);\n",
              "    animation:\n",
              "      spin 1s steps(1) infinite;\n",
              "  }\n",
              "\n",
              "  @keyframes spin {\n",
              "    0% {\n",
              "      border-color: transparent;\n",
              "      border-bottom-color: var(--fill-color);\n",
              "      border-left-color: var(--fill-color);\n",
              "    }\n",
              "    20% {\n",
              "      border-color: transparent;\n",
              "      border-left-color: var(--fill-color);\n",
              "      border-top-color: var(--fill-color);\n",
              "    }\n",
              "    30% {\n",
              "      border-color: transparent;\n",
              "      border-left-color: var(--fill-color);\n",
              "      border-top-color: var(--fill-color);\n",
              "      border-right-color: var(--fill-color);\n",
              "    }\n",
              "    40% {\n",
              "      border-color: transparent;\n",
              "      border-right-color: var(--fill-color);\n",
              "      border-top-color: var(--fill-color);\n",
              "    }\n",
              "    60% {\n",
              "      border-color: transparent;\n",
              "      border-right-color: var(--fill-color);\n",
              "    }\n",
              "    80% {\n",
              "      border-color: transparent;\n",
              "      border-right-color: var(--fill-color);\n",
              "      border-bottom-color: var(--fill-color);\n",
              "    }\n",
              "    90% {\n",
              "      border-color: transparent;\n",
              "      border-bottom-color: var(--fill-color);\n",
              "    }\n",
              "  }\n",
              "</style>\n",
              "\n",
              "  <script>\n",
              "    async function quickchart(key) {\n",
              "      const quickchartButtonEl =\n",
              "        document.querySelector('#' + key + ' button');\n",
              "      quickchartButtonEl.disabled = true;  // To prevent multiple clicks.\n",
              "      quickchartButtonEl.classList.add('colab-df-spinner');\n",
              "      try {\n",
              "        const charts = await google.colab.kernel.invokeFunction(\n",
              "            'suggestCharts', [key], {});\n",
              "      } catch (error) {\n",
              "        console.error('Error during call to suggestCharts:', error);\n",
              "      }\n",
              "      quickchartButtonEl.classList.remove('colab-df-spinner');\n",
              "      quickchartButtonEl.classList.add('colab-df-quickchart-complete');\n",
              "    }\n",
              "    (() => {\n",
              "      let quickchartButtonEl =\n",
              "        document.querySelector('#df-9f2c50ef-1d96-4442-a984-0511bbf20449 button');\n",
              "      quickchartButtonEl.style.display =\n",
              "        google.colab.kernel.accessAllowed ? 'block' : 'none';\n",
              "    })();\n",
              "  </script>\n",
              "</div>\n",
              "    </div>\n",
              "  </div>\n"
            ],
            "application/vnd.google.colaboratory.intrinsic+json": {
              "type": "dataframe",
              "variable_name": "df",
              "summary": "{\n  \"name\": \"df\",\n  \"rows\": 2501,\n  \"fields\": [\n    {\n      \"column\": \"t\",\n      \"properties\": {\n        \"dtype\": \"number\",\n        \"std\": 0.07221208347638226,\n        \"min\": 0.0,\n        \"max\": 0.25,\n        \"num_unique_values\": 2501,\n        \"samples\": [\n          0.1105,\n          0.2055,\n          0.1386\n        ],\n        \"semantic_type\": \"\",\n        \"description\": \"\"\n      }\n    },\n    {\n      \"column\": \"Ax\",\n      \"properties\": {\n        \"dtype\": \"number\",\n        \"std\": 91.54823436740988,\n        \"min\": -659.242,\n        \"max\": 106.644,\n        \"num_unique_values\": 2474,\n        \"samples\": [\n          -27.914,\n          3.123,\n          -49.408\n        ],\n        \"semantic_type\": \"\",\n        \"description\": \"\"\n      }\n    },\n    {\n      \"column\": \"Ay\",\n      \"properties\": {\n        \"dtype\": \"number\",\n        \"std\": 150.80426649127457,\n        \"min\": -66.116,\n        \"max\": 1035.511,\n        \"num_unique_values\": 2464,\n        \"samples\": [\n          0.049,\n          13.074,\n          12.554\n        ],\n        \"semantic_type\": \"\",\n        \"description\": \"\"\n      }\n    },\n    {\n      \"column\": \"Az\",\n      \"properties\": {\n        \"dtype\": \"number\",\n        \"std\": 152.89414598701475,\n        \"min\": -743.581,\n        \"max\": 62.812,\n        \"num_unique_values\": 2480,\n        \"samples\": [\n          -137.352,\n          -61.906,\n          -522.679\n        ],\n        \"semantic_type\": \"\",\n        \"description\": \"\"\n      }\n    },\n    {\n      \"column\": \"wx\",\n      \"properties\": {\n        \"dtype\": \"number\",\n        \"std\": 20.720005824446467,\n        \"min\": -25.8515,\n        \"max\": 56.0772,\n        \"num_unique_values\": 2482,\n        \"samples\": [\n          0.4822,\n          -15.3043,\n          -6.928\n        ],\n        \"semantic_type\": \"\",\n        \"description\": \"\"\n      }\n    },\n    {\n      \"column\": \"wy\",\n      \"properties\": {\n        \"dtype\": \"number\",\n        \"std\": 9.861243409070529,\n        \"min\": -18.2432,\n        \"max\": 30.5672,\n        \"num_unique_values\": 2475,\n        \"samples\": [\n          9.4723,\n          1.7143,\n          11.7556\n        ],\n        \"semantic_type\": \"\",\n        \"description\": \"\"\n      }\n    },\n    {\n      \"column\": \"wz\",\n      \"properties\": {\n        \"dtype\": \"number\",\n        \"std\": 14.511320964681799,\n        \"min\": -24.165,\n        \"max\": 44.4368,\n        \"num_unique_values\": 2456,\n        \"samples\": [\n          36.7078,\n          3.0963,\n          -7.9227\n        ],\n        \"semantic_type\": \"\",\n        \"description\": \"\"\n      }\n    },\n    {\n      \"column\": \"ax\",\n      \"properties\": {\n        \"dtype\": \"number\",\n        \"std\": 1.8166793568120512,\n        \"min\": -7.4693,\n        \"max\": 7.5954,\n        \"num_unique_values\": 2405,\n        \"samples\": [\n          0.2302,\n          0.1826,\n          1.2651\n        ],\n        \"semantic_type\": \"\",\n        \"description\": \"\"\n      }\n    },\n    {\n      \"column\": \"ay\",\n      \"properties\": {\n        \"dtype\": \"number\",\n        \"std\": 1.2503182835974345,\n        \"min\": -13.8068,\n        \"max\": 8.0007,\n        \"num_unique_values\": 2342,\n        \"samples\": [\n          -0.0677,\n          -0.0303,\n          0.3671\n        ],\n        \"semantic_type\": \"\",\n        \"description\": \"\"\n      }\n    },\n    {\n      \"column\": \"az\",\n      \"properties\": {\n        \"dtype\": \"number\",\n        \"std\": 1.4920289133509181,\n        \"min\": -4.9944,\n        \"max\": 12.1943,\n        \"num_unique_values\": 2391,\n        \"samples\": [\n          0.4342,\n          -0.0808,\n          -0.4739\n        ],\n        \"semantic_type\": \"\",\n        \"description\": \"\"\n      }\n    },\n    {\n      \"column\": \"R11\",\n      \"properties\": {\n        \"dtype\": \"number\",\n        \"std\": 0.2169120248519889,\n        \"min\": 0.293,\n        \"max\": 1.0,\n        \"num_unique_values\": 664,\n        \"samples\": [\n          0.685,\n          0.673,\n          0.378\n        ],\n        \"semantic_type\": \"\",\n        \"description\": \"\"\n      }\n    },\n    {\n      \"column\": \"R12\",\n      \"properties\": {\n        \"dtype\": \"number\",\n        \"std\": 0.28158474342099754,\n        \"min\": -0.044,\n        \"max\": 0.86,\n        \"num_unique_values\": 761,\n        \"samples\": [\n          0.682,\n          0.577,\n          0.078\n        ],\n        \"semantic_type\": \"\",\n        \"description\": \"\"\n      }\n    },\n    {\n      \"column\": \"R13\",\n      \"properties\": {\n        \"dtype\": \"number\",\n        \"std\": 0.26781941365694045,\n        \"min\": 0.0,\n        \"max\": 0.811,\n        \"num_unique_values\": 759,\n        \"samples\": [\n          0.705,\n          0.675,\n          0.097\n        ],\n        \"semantic_type\": \"\",\n        \"description\": \"\"\n      }\n    },\n    {\n      \"column\": \"R21\",\n      \"properties\": {\n        \"dtype\": \"number\",\n        \"std\": 0.2645390074531434,\n        \"min\": -0.609,\n        \"max\": 0.53,\n        \"num_unique_values\": 1038,\n        \"samples\": [\n          0.337,\n          -0.489,\n          0.13\n        ],\n        \"semantic_type\": \"\",\n        \"description\": \"\"\n      }\n    },\n    {\n      \"column\": \"R22\",\n      \"properties\": {\n        \"dtype\": \"number\",\n        \"std\": 0.2826252550982524,\n        \"min\": -0.107,\n        \"max\": 1.0,\n        \"num_unique_values\": 659,\n        \"samples\": [\n          0.819,\n          0.316,\n          0.69\n        ],\n        \"semantic_type\": \"\",\n        \"description\": \"\"\n      }\n    },\n    {\n      \"column\": \"R23\",\n      \"properties\": {\n        \"dtype\": \"number\",\n        \"std\": 0.3455227969495432,\n        \"min\": -1.004,\n        \"max\": 0.237,\n        \"num_unique_values\": 851,\n        \"samples\": [\n          0.054,\n          -0.506,\n          -0.65\n        ],\n        \"semantic_type\": \"\",\n        \"description\": \"\"\n      }\n    },\n    {\n      \"column\": \"R31\",\n      \"properties\": {\n        \"dtype\": \"number\",\n        \"std\": 0.3013256907590115,\n        \"min\": -0.861,\n        \"max\": 0.0,\n        \"num_unique_values\": 764,\n        \"samples\": [\n          -0.416,\n          -0.266,\n          -0.538\n        ],\n        \"semantic_type\": \"\",\n        \"description\": \"\"\n      }\n    },\n    {\n      \"column\": \"R32\",\n      \"properties\": {\n        \"dtype\": \"number\",\n        \"std\": 0.2842018857993086,\n        \"min\": -0.234,\n        \"max\": 0.774,\n        \"num_unique_values\": 894,\n        \"samples\": [\n          0.292,\n          0.759,\n          0.519\n        ],\n        \"semantic_type\": \"\",\n        \"description\": \"\"\n      }\n    },\n    {\n      \"column\": \"R33\",\n      \"properties\": {\n        \"dtype\": \"number\",\n        \"std\": 0.419828938857196,\n        \"min\": -0.408,\n        \"max\": 1.0,\n        \"num_unique_values\": 1050,\n        \"samples\": [\n          -0.218,\n          0.346,\n          -0.166\n        ],\n        \"semantic_type\": \"\",\n        \"description\": \"\"\n      }\n    }\n  ]\n}"
            }
          },
          "metadata": {},
          "execution_count": 17
        }
      ]
    },
    {
      "cell_type": "markdown",
      "source": [
        "### Las funciones para estimar el HIC, r_0 y GHIC se muestran aquí:"
      ],
      "metadata": {
        "id": "HGKIvGihmbL8"
      }
    },
    {
      "cell_type": "code",
      "source": [
        "import numpy as np\n",
        "from scipy.integrate import simps\n",
        "from numpy.linalg import norm\n",
        "\n",
        "def calculate_ghic(a, alpha, omega, r0, time, delta_t=0.015, g=9.81):\n",
        "    \"\"\"\n",
        "    Calculate the Generalized Head Injury Criterion (GHIC) for a given set of linear acceleration (a),\n",
        "    angular velocity (omega), angular acceleration (alpha), initial position (r0), and time data.\n",
        "\n",
        "    Parameters:\n",
        "    - a: Numpy array of linear acceleration vectors.\n",
        "    - alpha: Numpy array of angular acceleration vectors.\n",
        "    - omega: Numpy array of angular velocity vectors.\n",
        "    - r0: Numpy array of position vector.\n",
        "    - time: Numpy array of time values.\n",
        "    - delta_t: Time interval for GHIC calculation (default is 0.015s or 15ms).\n",
        "\n",
        "    Returns:\n",
        "    - The GHIC value.\n",
        "    \"\"\"\n",
        "    # Number of time steps\n",
        "    n = len(time)\n",
        "    ghic_max = 0\n",
        "\n",
        "    a = a/g\n",
        "    omega = omega\n",
        "    alpha = alpha\n",
        "\n",
        "\n",
        "    # Iterate through each time step\n",
        "    for start_index in range(n):\n",
        "        # Find the end index such that the time difference is approximately delta_t\n",
        "        end_index = start_index\n",
        "        while end_index < n and (time[end_index] - time[start_index]) < delta_t:\n",
        "            end_index += 1\n",
        "\n",
        "        # If the time window is exactly delta_t, calculate the GHIC for this window\n",
        "        if end_index < n and np.isclose(time[end_index] - time[start_index], delta_t, atol=1e-4):\n",
        "            # Calculate the integral part of the formula for this window\n",
        "            integrand = np.zeros(3)  # Initialize the integrand vector\n",
        "            for i in range(start_index, end_index):\n",
        "                integrand += (a[i] + np.cross(alpha[i], r0[i])/g + np.cross(omega[i], np.cross(omega[i], r0[i]))/g) * (time[i+1] - time[i])\n",
        "                # integrand += (a[i]) * (time[i+1] - time[i])\n",
        "            # Calculate the GHIC value for this window\n",
        "            ghic_candidate = (norm(integrand) / delta_t) ** 2.5 * delta_t\n",
        "            # Update the maximum GHIC value\n",
        "            ghic_max = max(ghic_max, ghic_candidate)\n",
        "\n",
        "    return ghic_max\n",
        "\n",
        "# Example usage:\n",
        "# a = np.array(...)     # Your linear acceleration data as an array of vectors\n",
        "# alpha = np.array(...) # Your angular acceleration data as an array of vectors\n",
        "# omega = np.array(...) # Your angular velocity data as an array of vectors\n",
        "# r0 = np.array(...)    # Your initial position vector\n",
        "# time = np.array(...)  # Your time data as a 1D array\n",
        "# ghic_value = calculate_ghic(a, alpha, omega, r0, time)\n",
        "# print(\"GHIC value:\", ghic_value)\n"
      ],
      "metadata": {
        "id": "XhieQFfdsQ6O"
      },
      "execution_count": 37,
      "outputs": []
    },
    {
      "cell_type": "code",
      "source": [
        "import numpy as np\n",
        "\n",
        "def calculate_r0(omega, v):\n",
        "    \"\"\"\n",
        "    Calculate the initial position vector r0 based on the angular velocity vectors omega and\n",
        "    the linear velocity vectors v for each timestep.\n",
        "\n",
        "    Parameters:\n",
        "    - omega: Numpy array of shape (N, 3) representing the angular velocity vectors.\n",
        "    - v: Numpy array of shape (N, 3) representing the linear velocity vectors.\n",
        "\n",
        "    Returns:\n",
        "    - r0: Numpy array of shape (N, 3) representing the initial position vectors.\n",
        "    \"\"\"\n",
        "    # Calculate the magnitude squared of the angular velocity vector for each timestep\n",
        "    omega_magnitude_squared = np.sum(omega**2, axis=1)\n",
        "\n",
        "    # Replace zeros in omega_magnitude_squared to avoid division by zero\n",
        "    omega_magnitude_squared[omega_magnitude_squared == 0] = np.nan\n",
        "\n",
        "    # Calculate the cross product of omega and v for each timestep\n",
        "    cross_product = np.cross(omega, v, axis=1)\n",
        "\n",
        "    # Calculate r0 for each timestep using the cross product divided by the magnitude squared of omega\n",
        "    r0 = cross_product / omega_magnitude_squared[:, np.newaxis]\n",
        "\n",
        "    return r0\n",
        "\n",
        "# Example usage:\n",
        "# Assume that 'omega' and 'v' are already defined as numpy arrays of shape (N, 3)\n",
        "# omega = np.array(...)  # Replace with your (N, 3) array of angular velocity vectors\n",
        "# v = np.array(...)      # Replace with your (N, 3) array of linear velocity vectors\n",
        "# r0 = calculate_r0(omega, v)"
      ],
      "metadata": {
        "id": "RDmgtMtd4XF6"
      },
      "execution_count": 19,
      "outputs": []
    },
    {
      "cell_type": "code",
      "source": [
        "import numpy as np\n",
        "from scipy.integrate import simps\n",
        "\n",
        "def calculate_hic(acceleration, time, g=9.81):\n",
        "    \"\"\"\n",
        "    Calculate the Head Injury Criterion (HIC) for a given set of acceleration data over time.\n",
        "\n",
        "    Parameters:\n",
        "    - acceleration: array of acceleration values\n",
        "    - time: array of time values\n",
        "    - g: gravity (m/s/s)\n",
        "\n",
        "    Returns:\n",
        "    - The HIC value.\n",
        "    \"\"\"\n",
        "    acceleration = acceleration/g\n",
        "\n",
        "    # Inicializar la variable HIC a un número muy pequeño\n",
        "    hic = 0\n",
        "    # El tiempo de integración debe ser menor o igual a 15 ms\n",
        "    delta_t = 0.015\n",
        "    # Calcular la integral de la aceleración para cada intervalo de tiempo posible\n",
        "    for start in range(len(time)):\n",
        "        for end in range(start + 1, len(time)):\n",
        "            if time[end] - time[start] <= delta_t:\n",
        "                # Integrar la aceleración en el intervalo de tiempo dado\n",
        "                integral = simps(acceleration[start:end+1], time[start:end+1])\n",
        "                # Calcular el valor de HIC para este intervalo y elevarlo a 2.5\n",
        "                hic_candidate = (integral / (time[end] - time[start])) ** 2.5 * (time[end] - time[start])\n",
        "                # Actualizar HIC si encontramos un valor más grande\n",
        "                hic = max(hic, hic_candidate)\n",
        "\n",
        "    return hic"
      ],
      "metadata": {
        "id": "RfvljqWzX7LW"
      },
      "execution_count": 20,
      "outputs": []
    },
    {
      "cell_type": "markdown",
      "source": [
        "## a) Cálculo de la matriz de velocidad angular $Ω_t$  a partir de los datos experimentales, integración numérica para obtener la matriz de rotación $R_t$\n",
        "La matriz de rotación $R_t$ ser determina a partir de la matriz de velocidad angular en sistema inercial, definida como $\\Omega_t = \\dot R_t R_t $\n"
      ],
      "metadata": {
        "id": "K3xHe3acj1Ru"
      }
    },
    {
      "cell_type": "markdown",
      "source": [
        "## b)\tCálculo de la aceleración de la cabeza respecto al sistema de referencia inercial dado por el suelo.\n",
        "Utilizando la matriz de rotación calculada en función del tiempo en el apartado anterior es posible convertir las aceleraciones del sistema no inercial a un sistema inercial\n",
        "Para llevar del sistema no inercial (cabeza) al sistema inercial (suelo) se deberá rotar el vector de aceleración. La primer componente rotada del vector aceleración se estima como:\n",
        "\n",
        "$$A_ix=R11*Ax+R12*Ay+R13*Az$$\n"
      ],
      "metadata": {
        "id": "vJuezICfrWzk"
      }
    },
    {
      "cell_type": "code",
      "source": [
        "df.head()"
      ],
      "metadata": {
        "id": "tTyjg6JWWOmU",
        "outputId": "1660c2f8-edd8-4eab-ab4e-1b22fe4b2668",
        "colab": {
          "base_uri": "https://localhost:8080/",
          "height": 236
        }
      },
      "execution_count": 11,
      "outputs": [
        {
          "output_type": "execute_result",
          "data": {
            "text/plain": [
              "        t     Ax     Ay      Az      wx      wy      wz      ax      ay  \\\n",
              "0  0.0000 -4.478 -6.935   5.672  0.0307  0.7855  0.0563  0.0000  0.0000   \n",
              "1  0.0001 -4.784 -7.107   0.904  0.0292  0.7562  0.0669 -0.0156 -0.2936   \n",
              "2  0.0002 -3.494 -5.802  -4.093  0.0244  0.7424  0.0597 -0.0481 -0.1374   \n",
              "3  0.0003 -2.259 -2.949  -7.271  0.0610  0.7720  0.0146  0.3658  0.2958   \n",
              "4  0.0004 -2.684  0.420 -11.451  0.1431  0.8430 -0.0800  0.8212  0.7095   \n",
              "\n",
              "       az  ...  R33    Aix    Aiy     Aiz     wix     wiy     wiz     aix  \\\n",
              "0  0.0000  ...  1.0 -4.478 -6.935   5.672  0.0307  0.7855  0.0563  0.0000   \n",
              "1  0.1063  ...  1.0 -4.784 -7.107   0.904  0.0292  0.7562  0.0669 -0.0156   \n",
              "2 -0.0726  ...  1.0 -3.494 -5.802  -4.093  0.0244  0.7424  0.0597 -0.0481   \n",
              "3 -0.4508  ...  1.0 -2.259 -2.949  -7.271  0.0610  0.7720  0.0146  0.3658   \n",
              "4 -0.9454  ...  1.0 -2.684  0.420 -11.451  0.1431  0.8430 -0.0800  0.8212   \n",
              "\n",
              "      aiy     aiz  \n",
              "0  0.0000  0.0000  \n",
              "1 -0.2936  0.1063  \n",
              "2 -0.1374 -0.0726  \n",
              "3  0.2958 -0.4508  \n",
              "4  0.7095 -0.9454  \n",
              "\n",
              "[5 rows x 28 columns]"
            ],
            "text/html": [
              "\n",
              "  <div id=\"df-24a37722-06be-4b5c-b32f-fb2edb51f662\" class=\"colab-df-container\">\n",
              "    <div>\n",
              "<style scoped>\n",
              "    .dataframe tbody tr th:only-of-type {\n",
              "        vertical-align: middle;\n",
              "    }\n",
              "\n",
              "    .dataframe tbody tr th {\n",
              "        vertical-align: top;\n",
              "    }\n",
              "\n",
              "    .dataframe thead th {\n",
              "        text-align: right;\n",
              "    }\n",
              "</style>\n",
              "<table border=\"1\" class=\"dataframe\">\n",
              "  <thead>\n",
              "    <tr style=\"text-align: right;\">\n",
              "      <th></th>\n",
              "      <th>t</th>\n",
              "      <th>Ax</th>\n",
              "      <th>Ay</th>\n",
              "      <th>Az</th>\n",
              "      <th>wx</th>\n",
              "      <th>wy</th>\n",
              "      <th>wz</th>\n",
              "      <th>ax</th>\n",
              "      <th>ay</th>\n",
              "      <th>az</th>\n",
              "      <th>...</th>\n",
              "      <th>R33</th>\n",
              "      <th>Aix</th>\n",
              "      <th>Aiy</th>\n",
              "      <th>Aiz</th>\n",
              "      <th>wix</th>\n",
              "      <th>wiy</th>\n",
              "      <th>wiz</th>\n",
              "      <th>aix</th>\n",
              "      <th>aiy</th>\n",
              "      <th>aiz</th>\n",
              "    </tr>\n",
              "  </thead>\n",
              "  <tbody>\n",
              "    <tr>\n",
              "      <th>0</th>\n",
              "      <td>0.0000</td>\n",
              "      <td>-4.478</td>\n",
              "      <td>-6.935</td>\n",
              "      <td>5.672</td>\n",
              "      <td>0.0307</td>\n",
              "      <td>0.7855</td>\n",
              "      <td>0.0563</td>\n",
              "      <td>0.0000</td>\n",
              "      <td>0.0000</td>\n",
              "      <td>0.0000</td>\n",
              "      <td>...</td>\n",
              "      <td>1.0</td>\n",
              "      <td>-4.478</td>\n",
              "      <td>-6.935</td>\n",
              "      <td>5.672</td>\n",
              "      <td>0.0307</td>\n",
              "      <td>0.7855</td>\n",
              "      <td>0.0563</td>\n",
              "      <td>0.0000</td>\n",
              "      <td>0.0000</td>\n",
              "      <td>0.0000</td>\n",
              "    </tr>\n",
              "    <tr>\n",
              "      <th>1</th>\n",
              "      <td>0.0001</td>\n",
              "      <td>-4.784</td>\n",
              "      <td>-7.107</td>\n",
              "      <td>0.904</td>\n",
              "      <td>0.0292</td>\n",
              "      <td>0.7562</td>\n",
              "      <td>0.0669</td>\n",
              "      <td>-0.0156</td>\n",
              "      <td>-0.2936</td>\n",
              "      <td>0.1063</td>\n",
              "      <td>...</td>\n",
              "      <td>1.0</td>\n",
              "      <td>-4.784</td>\n",
              "      <td>-7.107</td>\n",
              "      <td>0.904</td>\n",
              "      <td>0.0292</td>\n",
              "      <td>0.7562</td>\n",
              "      <td>0.0669</td>\n",
              "      <td>-0.0156</td>\n",
              "      <td>-0.2936</td>\n",
              "      <td>0.1063</td>\n",
              "    </tr>\n",
              "    <tr>\n",
              "      <th>2</th>\n",
              "      <td>0.0002</td>\n",
              "      <td>-3.494</td>\n",
              "      <td>-5.802</td>\n",
              "      <td>-4.093</td>\n",
              "      <td>0.0244</td>\n",
              "      <td>0.7424</td>\n",
              "      <td>0.0597</td>\n",
              "      <td>-0.0481</td>\n",
              "      <td>-0.1374</td>\n",
              "      <td>-0.0726</td>\n",
              "      <td>...</td>\n",
              "      <td>1.0</td>\n",
              "      <td>-3.494</td>\n",
              "      <td>-5.802</td>\n",
              "      <td>-4.093</td>\n",
              "      <td>0.0244</td>\n",
              "      <td>0.7424</td>\n",
              "      <td>0.0597</td>\n",
              "      <td>-0.0481</td>\n",
              "      <td>-0.1374</td>\n",
              "      <td>-0.0726</td>\n",
              "    </tr>\n",
              "    <tr>\n",
              "      <th>3</th>\n",
              "      <td>0.0003</td>\n",
              "      <td>-2.259</td>\n",
              "      <td>-2.949</td>\n",
              "      <td>-7.271</td>\n",
              "      <td>0.0610</td>\n",
              "      <td>0.7720</td>\n",
              "      <td>0.0146</td>\n",
              "      <td>0.3658</td>\n",
              "      <td>0.2958</td>\n",
              "      <td>-0.4508</td>\n",
              "      <td>...</td>\n",
              "      <td>1.0</td>\n",
              "      <td>-2.259</td>\n",
              "      <td>-2.949</td>\n",
              "      <td>-7.271</td>\n",
              "      <td>0.0610</td>\n",
              "      <td>0.7720</td>\n",
              "      <td>0.0146</td>\n",
              "      <td>0.3658</td>\n",
              "      <td>0.2958</td>\n",
              "      <td>-0.4508</td>\n",
              "    </tr>\n",
              "    <tr>\n",
              "      <th>4</th>\n",
              "      <td>0.0004</td>\n",
              "      <td>-2.684</td>\n",
              "      <td>0.420</td>\n",
              "      <td>-11.451</td>\n",
              "      <td>0.1431</td>\n",
              "      <td>0.8430</td>\n",
              "      <td>-0.0800</td>\n",
              "      <td>0.8212</td>\n",
              "      <td>0.7095</td>\n",
              "      <td>-0.9454</td>\n",
              "      <td>...</td>\n",
              "      <td>1.0</td>\n",
              "      <td>-2.684</td>\n",
              "      <td>0.420</td>\n",
              "      <td>-11.451</td>\n",
              "      <td>0.1431</td>\n",
              "      <td>0.8430</td>\n",
              "      <td>-0.0800</td>\n",
              "      <td>0.8212</td>\n",
              "      <td>0.7095</td>\n",
              "      <td>-0.9454</td>\n",
              "    </tr>\n",
              "  </tbody>\n",
              "</table>\n",
              "<p>5 rows × 28 columns</p>\n",
              "</div>\n",
              "    <div class=\"colab-df-buttons\">\n",
              "\n",
              "  <div class=\"colab-df-container\">\n",
              "    <button class=\"colab-df-convert\" onclick=\"convertToInteractive('df-24a37722-06be-4b5c-b32f-fb2edb51f662')\"\n",
              "            title=\"Convert this dataframe to an interactive table.\"\n",
              "            style=\"display:none;\">\n",
              "\n",
              "  <svg xmlns=\"http://www.w3.org/2000/svg\" height=\"24px\" viewBox=\"0 -960 960 960\">\n",
              "    <path d=\"M120-120v-720h720v720H120Zm60-500h600v-160H180v160Zm220 220h160v-160H400v160Zm0 220h160v-160H400v160ZM180-400h160v-160H180v160Zm440 0h160v-160H620v160ZM180-180h160v-160H180v160Zm440 0h160v-160H620v160Z\"/>\n",
              "  </svg>\n",
              "    </button>\n",
              "\n",
              "  <style>\n",
              "    .colab-df-container {\n",
              "      display:flex;\n",
              "      gap: 12px;\n",
              "    }\n",
              "\n",
              "    .colab-df-convert {\n",
              "      background-color: #E8F0FE;\n",
              "      border: none;\n",
              "      border-radius: 50%;\n",
              "      cursor: pointer;\n",
              "      display: none;\n",
              "      fill: #1967D2;\n",
              "      height: 32px;\n",
              "      padding: 0 0 0 0;\n",
              "      width: 32px;\n",
              "    }\n",
              "\n",
              "    .colab-df-convert:hover {\n",
              "      background-color: #E2EBFA;\n",
              "      box-shadow: 0px 1px 2px rgba(60, 64, 67, 0.3), 0px 1px 3px 1px rgba(60, 64, 67, 0.15);\n",
              "      fill: #174EA6;\n",
              "    }\n",
              "\n",
              "    .colab-df-buttons div {\n",
              "      margin-bottom: 4px;\n",
              "    }\n",
              "\n",
              "    [theme=dark] .colab-df-convert {\n",
              "      background-color: #3B4455;\n",
              "      fill: #D2E3FC;\n",
              "    }\n",
              "\n",
              "    [theme=dark] .colab-df-convert:hover {\n",
              "      background-color: #434B5C;\n",
              "      box-shadow: 0px 1px 3px 1px rgba(0, 0, 0, 0.15);\n",
              "      filter: drop-shadow(0px 1px 2px rgba(0, 0, 0, 0.3));\n",
              "      fill: #FFFFFF;\n",
              "    }\n",
              "  </style>\n",
              "\n",
              "    <script>\n",
              "      const buttonEl =\n",
              "        document.querySelector('#df-24a37722-06be-4b5c-b32f-fb2edb51f662 button.colab-df-convert');\n",
              "      buttonEl.style.display =\n",
              "        google.colab.kernel.accessAllowed ? 'block' : 'none';\n",
              "\n",
              "      async function convertToInteractive(key) {\n",
              "        const element = document.querySelector('#df-24a37722-06be-4b5c-b32f-fb2edb51f662');\n",
              "        const dataTable =\n",
              "          await google.colab.kernel.invokeFunction('convertToInteractive',\n",
              "                                                    [key], {});\n",
              "        if (!dataTable) return;\n",
              "\n",
              "        const docLinkHtml = 'Like what you see? Visit the ' +\n",
              "          '<a target=\"_blank\" href=https://colab.research.google.com/notebooks/data_table.ipynb>data table notebook</a>'\n",
              "          + ' to learn more about interactive tables.';\n",
              "        element.innerHTML = '';\n",
              "        dataTable['output_type'] = 'display_data';\n",
              "        await google.colab.output.renderOutput(dataTable, element);\n",
              "        const docLink = document.createElement('div');\n",
              "        docLink.innerHTML = docLinkHtml;\n",
              "        element.appendChild(docLink);\n",
              "      }\n",
              "    </script>\n",
              "  </div>\n",
              "\n",
              "\n",
              "<div id=\"df-a107210b-055c-40b2-ac5f-840848b5db49\">\n",
              "  <button class=\"colab-df-quickchart\" onclick=\"quickchart('df-a107210b-055c-40b2-ac5f-840848b5db49')\"\n",
              "            title=\"Suggest charts\"\n",
              "            style=\"display:none;\">\n",
              "\n",
              "<svg xmlns=\"http://www.w3.org/2000/svg\" height=\"24px\"viewBox=\"0 0 24 24\"\n",
              "     width=\"24px\">\n",
              "    <g>\n",
              "        <path d=\"M19 3H5c-1.1 0-2 .9-2 2v14c0 1.1.9 2 2 2h14c1.1 0 2-.9 2-2V5c0-1.1-.9-2-2-2zM9 17H7v-7h2v7zm4 0h-2V7h2v10zm4 0h-2v-4h2v4z\"/>\n",
              "    </g>\n",
              "</svg>\n",
              "  </button>\n",
              "\n",
              "<style>\n",
              "  .colab-df-quickchart {\n",
              "      --bg-color: #E8F0FE;\n",
              "      --fill-color: #1967D2;\n",
              "      --hover-bg-color: #E2EBFA;\n",
              "      --hover-fill-color: #174EA6;\n",
              "      --disabled-fill-color: #AAA;\n",
              "      --disabled-bg-color: #DDD;\n",
              "  }\n",
              "\n",
              "  [theme=dark] .colab-df-quickchart {\n",
              "      --bg-color: #3B4455;\n",
              "      --fill-color: #D2E3FC;\n",
              "      --hover-bg-color: #434B5C;\n",
              "      --hover-fill-color: #FFFFFF;\n",
              "      --disabled-bg-color: #3B4455;\n",
              "      --disabled-fill-color: #666;\n",
              "  }\n",
              "\n",
              "  .colab-df-quickchart {\n",
              "    background-color: var(--bg-color);\n",
              "    border: none;\n",
              "    border-radius: 50%;\n",
              "    cursor: pointer;\n",
              "    display: none;\n",
              "    fill: var(--fill-color);\n",
              "    height: 32px;\n",
              "    padding: 0;\n",
              "    width: 32px;\n",
              "  }\n",
              "\n",
              "  .colab-df-quickchart:hover {\n",
              "    background-color: var(--hover-bg-color);\n",
              "    box-shadow: 0 1px 2px rgba(60, 64, 67, 0.3), 0 1px 3px 1px rgba(60, 64, 67, 0.15);\n",
              "    fill: var(--button-hover-fill-color);\n",
              "  }\n",
              "\n",
              "  .colab-df-quickchart-complete:disabled,\n",
              "  .colab-df-quickchart-complete:disabled:hover {\n",
              "    background-color: var(--disabled-bg-color);\n",
              "    fill: var(--disabled-fill-color);\n",
              "    box-shadow: none;\n",
              "  }\n",
              "\n",
              "  .colab-df-spinner {\n",
              "    border: 2px solid var(--fill-color);\n",
              "    border-color: transparent;\n",
              "    border-bottom-color: var(--fill-color);\n",
              "    animation:\n",
              "      spin 1s steps(1) infinite;\n",
              "  }\n",
              "\n",
              "  @keyframes spin {\n",
              "    0% {\n",
              "      border-color: transparent;\n",
              "      border-bottom-color: var(--fill-color);\n",
              "      border-left-color: var(--fill-color);\n",
              "    }\n",
              "    20% {\n",
              "      border-color: transparent;\n",
              "      border-left-color: var(--fill-color);\n",
              "      border-top-color: var(--fill-color);\n",
              "    }\n",
              "    30% {\n",
              "      border-color: transparent;\n",
              "      border-left-color: var(--fill-color);\n",
              "      border-top-color: var(--fill-color);\n",
              "      border-right-color: var(--fill-color);\n",
              "    }\n",
              "    40% {\n",
              "      border-color: transparent;\n",
              "      border-right-color: var(--fill-color);\n",
              "      border-top-color: var(--fill-color);\n",
              "    }\n",
              "    60% {\n",
              "      border-color: transparent;\n",
              "      border-right-color: var(--fill-color);\n",
              "    }\n",
              "    80% {\n",
              "      border-color: transparent;\n",
              "      border-right-color: var(--fill-color);\n",
              "      border-bottom-color: var(--fill-color);\n",
              "    }\n",
              "    90% {\n",
              "      border-color: transparent;\n",
              "      border-bottom-color: var(--fill-color);\n",
              "    }\n",
              "  }\n",
              "</style>\n",
              "\n",
              "  <script>\n",
              "    async function quickchart(key) {\n",
              "      const quickchartButtonEl =\n",
              "        document.querySelector('#' + key + ' button');\n",
              "      quickchartButtonEl.disabled = true;  // To prevent multiple clicks.\n",
              "      quickchartButtonEl.classList.add('colab-df-spinner');\n",
              "      try {\n",
              "        const charts = await google.colab.kernel.invokeFunction(\n",
              "            'suggestCharts', [key], {});\n",
              "      } catch (error) {\n",
              "        console.error('Error during call to suggestCharts:', error);\n",
              "      }\n",
              "      quickchartButtonEl.classList.remove('colab-df-spinner');\n",
              "      quickchartButtonEl.classList.add('colab-df-quickchart-complete');\n",
              "    }\n",
              "    (() => {\n",
              "      let quickchartButtonEl =\n",
              "        document.querySelector('#df-a107210b-055c-40b2-ac5f-840848b5db49 button');\n",
              "      quickchartButtonEl.style.display =\n",
              "        google.colab.kernel.accessAllowed ? 'block' : 'none';\n",
              "    })();\n",
              "  </script>\n",
              "</div>\n",
              "    </div>\n",
              "  </div>\n"
            ],
            "application/vnd.google.colaboratory.intrinsic+json": {
              "type": "dataframe",
              "variable_name": "df"
            }
          },
          "metadata": {},
          "execution_count": 11
        }
      ]
    },
    {
      "cell_type": "code",
      "source": [
        "df['Aix'] = df['R11']*df['Ax']+df['R12']*df['Ay']+df['R13']*df['Az']\n",
        "df['Aiy'] = df['R21']*df['Ax']+df['R22']*df['Ay']+df['R23']*df['Az']\n",
        "df['Aiz'] = df['R31']*df['Ax']+df['R32']*df['Ay']+df['R33']*df['Az']"
      ],
      "metadata": {
        "id": "Svecsfpl821y"
      },
      "execution_count": 28,
      "outputs": []
    },
    {
      "cell_type": "markdown",
      "source": [
        "Determinación del la velocidad angular en sistema inercial (en laboratorio)\n"
      ],
      "metadata": {
        "id": "LSx4M0Dzlckz"
      }
    },
    {
      "cell_type": "code",
      "source": [
        "df['wix'] = df['R11']*df['wx']+df['R12']*df['wy']+df['R13']*df['wz']\n",
        "df['wiy'] = df['R21']*df['wx']+df['R22']*df['wy']+df['R23']*df['wz']\n",
        "df['wiz'] = df['R31']*df['wx']+df['R32']*df['wy']+df['R33']*df['wz']"
      ],
      "metadata": {
        "id": "o5l1qJFpk96U"
      },
      "execution_count": 29,
      "outputs": []
    },
    {
      "cell_type": "markdown",
      "source": [
        "Determinación de la aceleración angular en sistema inercial (en laboratorio)"
      ],
      "metadata": {
        "id": "wd0GCwpgljfa"
      }
    },
    {
      "cell_type": "code",
      "source": [
        "df['aix'] = df['R11']*df['ax']+df['R12']*df['ay']+df['R13']*df['az']\n",
        "df['aiy'] = df['R21']*df['ax']+df['R22']*df['ay']+df['R23']*df['az']\n",
        "df['aiz'] = df['R31']*df['ax']+df['R32']*df['ay']+df['R33']*df['az']"
      ],
      "metadata": {
        "id": "UkGN8Pzek66-"
      },
      "execution_count": 30,
      "outputs": []
    },
    {
      "cell_type": "markdown",
      "source": [
        "## c)\tDeterminación del HIC y predicción de efectos lesivos a partir del HIC (En casa)\n",
        "Utilizando la ecuación conocida de las tres prácticas anteriores calcular el valor de HIC (En casa)"
      ],
      "metadata": {
        "id": "CyRfZKFdrvOS"
      }
    },
    {
      "cell_type": "code",
      "source": [
        "g = 9.81\n",
        "Ai = np.sqrt((df['Aix'])**2 + (df['Aiy'])**2 + (df['Aiz'])**2)\n",
        "time = df['t'].to_numpy()"
      ],
      "metadata": {
        "id": "NRonh82Cr5eI"
      },
      "execution_count": 12,
      "outputs": []
    },
    {
      "cell_type": "code",
      "source": [
        "HIC = calculate_hic(Ai, time)"
      ],
      "metadata": {
        "id": "MlNNw1sdzKRK"
      },
      "execution_count": 21,
      "outputs": []
    },
    {
      "cell_type": "code",
      "source": [
        "print(HIC)"
      ],
      "metadata": {
        "id": "Uix6Nzy-_auE",
        "outputId": "2f55f960-3643-4d56-90b0-08b89655ca8f",
        "colab": {
          "base_uri": "https://localhost:8080/"
        }
      },
      "execution_count": 22,
      "outputs": [
        {
          "output_type": "stream",
          "name": "stdout",
          "text": [
            "1011.2834897964397\n"
          ]
        }
      ]
    },
    {
      "cell_type": "markdown",
      "source": [
        "## d)\tDeterminación del GHIC y predicción de los efectos lesivos a partir del GHIC (En casa)\n",
        "para el cálculo de la distancia entre el eje de rotación y el centro de gravedad de la cabeza se usará $ \\vec r_0 = ( \\vec ω × \\vec v )⁄‖\\vec ω ‖^2 $, utilizar la función calculate_r0(omega, v) para ello. Obsérvese que la ecuación del HIC es un caso particular de la ecuación del GHIC eliminando los términos de información rotacional."
      ],
      "metadata": {
        "id": "hkOj6x8_r9hF"
      }
    },
    {
      "cell_type": "markdown",
      "source": [
        "calculo de $ω$"
      ],
      "metadata": {
        "id": "8KOAv5Uh5PQt"
      }
    },
    {
      "cell_type": "code",
      "source": [
        "omega = df[['wix','wiy','wiz']].to_numpy()"
      ],
      "metadata": {
        "id": "2EiZrxqf4tP6"
      },
      "execution_count": 26,
      "outputs": []
    },
    {
      "cell_type": "markdown",
      "source": [
        "velocidad inicial es cero"
      ],
      "metadata": {
        "id": "GDauxU--ARSp"
      }
    },
    {
      "cell_type": "code",
      "source": [
        "df['vx'] = cumtrapz(df['Aix'], df['t'], initial=0)\n",
        "df['vy'] = cumtrapz(df['Aiy'], df['t'], initial=0)\n",
        "df['vz'] = cumtrapz(df['Aiy'], df['t'], initial=0)"
      ],
      "metadata": {
        "id": "_65dzYEi_xaB"
      },
      "execution_count": 31,
      "outputs": []
    },
    {
      "cell_type": "code",
      "source": [
        "v = df[['vx','vy','vz']].to_numpy()\n",
        "r0 = calculate_r0(omega, v)"
      ],
      "metadata": {
        "id": "7GccwkoHnAhZ"
      },
      "execution_count": 33,
      "outputs": []
    },
    {
      "cell_type": "code",
      "source": [
        "print(r0)"
      ],
      "metadata": {
        "id": "AnVEy8_PAz4-",
        "outputId": "a2b711d2-8305-427a-81d0-f362599a1eec",
        "colab": {
          "base_uri": "https://localhost:8080/"
        }
      },
      "execution_count": 34,
      "outputs": [
        {
          "output_type": "stream",
          "name": "stdout",
          "text": [
            "[[ 0.00000000e+00  0.00000000e+00  0.00000000e+00]\n",
            " [-8.38505649e-04 -1.81577873e-05  5.71229951e-04]\n",
            " [-1.65666104e-03 -3.50730711e-05  1.11324585e-03]\n",
            " ...\n",
            " [ 2.29353882e+00  1.39804598e+00 -1.31147434e+00]\n",
            " [ 2.30736515e+00  1.39063824e+00 -1.30351957e+00]\n",
            " [ 2.31944346e+00  1.38983070e+00 -1.30220677e+00]]\n"
          ]
        }
      ]
    },
    {
      "cell_type": "code",
      "source": [
        "a = df[['Aix', 'Aiy', 'Aiz']].to_numpy()\n",
        "alpha = df[['aix', 'aiy', 'aiz']].to_numpy()"
      ],
      "metadata": {
        "id": "tz6fqV253Z7F"
      },
      "execution_count": 35,
      "outputs": []
    },
    {
      "cell_type": "code",
      "source": [
        "ghic_value = calculate_ghic(a=a, alpha=alpha, omega=omega, r0=r0, time=time, delta_t=0.015, g=9.81)\n",
        "print(\"GHIC value:\", ghic_value)"
      ],
      "metadata": {
        "colab": {
          "base_uri": "https://localhost:8080/"
        },
        "id": "U3RZW3I_3cZX",
        "outputId": "3357e91d-dcd9-4d7a-b5cf-fa2f2d4cebc4"
      },
      "execution_count": 38,
      "outputs": [
        {
          "output_type": "stream",
          "name": "stdout",
          "text": [
            "GHIC value: 1264.022947485288\n"
          ]
        }
      ]
    },
    {
      "cell_type": "markdown",
      "source": [
        "# Tareas a realizar, presentación del informe:"
      ],
      "metadata": {
        "id": "7q8GODubsx5q"
      }
    },
    {
      "cell_type": "markdown",
      "source": [
        "1) Representar las 3 componentes independientes de $Ω_t$ y las 6 componentes independientes de $R_t$ (dos gráficos uno para conjunto de componentes)."
      ],
      "metadata": {
        "id": "GivFGnbPs0Q9"
      }
    },
    {
      "cell_type": "code",
      "source": [],
      "metadata": {
        "id": "zGQ_a5NnlYFF"
      },
      "execution_count": null,
      "outputs": []
    },
    {
      "cell_type": "markdown",
      "source": [
        "2) Presentar tres conjuntos de gráficas: para la aceleración $a ⃗_{ni} (t)$ (3 componentes) y $a ⃗_i (t)$ (3 componentes), compara los módulos de las aceleraciones obtenidas."
      ],
      "metadata": {
        "id": "Aqfy4W8YV_7m"
      }
    },
    {
      "cell_type": "code",
      "source": [],
      "metadata": {
        "id": "0hOGJPeqtaE1"
      },
      "execution_count": null,
      "outputs": []
    },
    {
      "cell_type": "markdown",
      "source": [
        "3) \tUsar la aceleración $a ⃗_i (t)$ obtenida para estimar una cota superior de HIC (Head Injury Criterion), tal como se hizo en la práctica 3."
      ],
      "metadata": {
        "id": "hzl96PR7taYg"
      }
    },
    {
      "cell_type": "code",
      "source": [],
      "metadata": {
        "id": "4DMoe3kvtjNm"
      },
      "execution_count": null,
      "outputs": []
    },
    {
      "cell_type": "markdown",
      "source": [
        "4) Usar la aceleración $a ⃗_i (t)$ y la velocidad angular $ω ⃗(t)$ para computar una cota superior del GHIC (Generalized Head Injury Criterion). Comentar los resultados comparados de 3 y 4."
      ],
      "metadata": {
        "id": "usjp0zogtjnf"
      }
    },
    {
      "cell_type": "code",
      "source": [],
      "metadata": {
        "id": "DwKPl0m5uGxj"
      },
      "execution_count": null,
      "outputs": []
    },
    {
      "cell_type": "markdown",
      "source": [
        "5) Explicar por qué para simular los esfuerzos en el cerebro necesitamos la aceleración respecto al suelo $a ⃗_i (t)$ y no podemos hacer servir directamente $a ⃗_{ni}$."
      ],
      "metadata": {
        "id": "Fo6SjaqMt1Oi"
      }
    },
    {
      "cell_type": "markdown",
      "source": [
        "6) Propon una mejora a la práctica"
      ],
      "metadata": {
        "id": "H_th0iocEZ1B"
      }
    },
    {
      "cell_type": "code",
      "source": [],
      "metadata": {
        "id": "-NDYkh-yEZa0"
      },
      "execution_count": null,
      "outputs": []
    }
  ]
}
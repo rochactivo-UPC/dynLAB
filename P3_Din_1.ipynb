{
  "nbformat": 4,
  "nbformat_minor": 0,
  "metadata": {
    "colab": {
      "provenance": [],
      "authorship_tag": "ABX9TyOkGmD+1eGXB4z5iNf3WP/s",
      "include_colab_link": true
    },
    "kernelspec": {
      "name": "python3",
      "display_name": "Python 3"
    },
    "language_info": {
      "name": "python"
    }
  },
  "cells": [
    {
      "cell_type": "markdown",
      "metadata": {
        "id": "view-in-github",
        "colab_type": "text"
      },
      "source": [
        "<a href=\"https://colab.research.google.com/github/rochactivo-UPC/dynLAB/blob/main/P3_Din_1.ipynb\" target=\"_parent\"><img src=\"https://colab.research.google.com/assets/colab-badge.svg\" alt=\"Open In Colab\"/></a>"
      ]
    },
    {
      "cell_type": "markdown",
      "source": [],
      "metadata": {
        "id": "NOI91tOlRT1I"
      }
    },
    {
      "cell_type": "markdown",
      "source": [
        "# Dinámica – Práctica 3 – Impacto de cabeza de peatón 😵🤯💥🚗\n",
        "\n",
        "## Determinación del valor de daño de cabeza para un impacto de peatón contra un vehículo\n",
        "\n",
        "## Objetivos:\n",
        "\n",
        "\n",
        "1.   A partir de una aceleración dada $a = f(t)$ de un impactor de cabeza en un vehículo, obtener el valor de HIC.\n",
        "2.   Considerar las opciones de diseño de un vehículo para reducir el daño en peatones.\n",
        "3. \tRealizar un análisis físico de las curvas obtenidas.\n",
        "\n",
        "\n",
        "## Tarea a realizar:\n",
        "Determinación del valor de HIC de un impacto de cabeza de peatón en un vehículo.\n",
        "## Introducción:\n",
        "Una de las aplicaciones de la determinación del valor del índice riesgo denominado HIC [Head Injury Criterion] es la mejora del diseño de los automóviles para reducir los daños producidos en un accidente o, en otras palabras, aumentar su seguridad pasiva.\n",
        "\n",
        "El incremento de la seguridad pasiva se orienta no sólo a la mejora de la protección a los ocupantes del vehículo sino también a la mejora a la de la protección a peatones -en caso de atropello-.\n",
        "\n",
        "El reglamento (CE) No 78/2009 de la Unión Europea regula para todos los vehículos vendidos desde finales de 2009 en dicha región los requisitos de homologación de vehículos en lo que se refiere a la protección de los peatones y otros usuarios vulnerables de la vía pública.\n",
        "\n",
        "Los siguientes ensayos son requeridos para evaluar el valor de HIC (denominado HPC en el reglamento):\n",
        "\n",
        "\\begin{array}{|m{5cm}|m{2.5cm}|m{2.5cm}|m{2.5cm}|m{2.5cm}|}\n",
        "\\hline\n",
        " & \\textbf{Pierna contra paragolpes} & \\textbf{Muslo contra borde de capó} & \\textbf{Cabeza infantil / adulto vs capó} & \\textbf{Cabeza adulta contra parabrisas} \\\\ \\hline\n",
        "\\textbf{Velocidad impacto} & 40 km/h & 40 km/h & 35 km/h & 35 km/h \\\\ \\hline\n",
        "\\textbf{Ángulo impacto} & 0^\\circ & 10 - 46^\\circ & 50^\\circ & 35^\\circ \\\\ \\hline\n",
        "\\textbf{Masa impactor} & 13,4 kg & 10,5 - 17,5 kg & Infantil: 3,5 kg Adulto: 4,8 kg & 4,8 kg \\\\ \\hline\n",
        "\\textbf{HIC} & No aplica & No aplica & <1000 & <1000 \\\\ \\hline\n",
        "\\end{array}\n",
        "\n",
        "Para juzgar los ensayos de protección de cabeza se toman los datos de 9 repeticiones del ensayo para tener en cuenta la variabilidad del ensayo. La tabla inferior muestra los resultados máximos de dichas repeticiones que permiten juzgar los ensayos de protección de peatones y por tanto homologar y autorizar la venta del vehículo.\n",
        "\n",
        "En los últimos años la velocidad máxima de circulación en ciudades se ha reducido desde los típicos 50 km/h hasta 30 o incluso 20 km/h. Esta medida tiene como objetivo reducir las consecuencias en caso de atropello. A modo de ejemplo el gráfico inferior muestra la relación entre la velocidad de colisión y la probabilidad de muerte. Como puede apreciarse la probabilidad de supervivencia aumenta drástica reduciendo sólo 15-20 km/h la velocidad de la colisión."
      ],
      "metadata": {
        "id": "HJGxD2J1zdlB"
      }
    },
    {
      "cell_type": "markdown",
      "source": [
        "# a) Obtención de los datos y pre-rocesado"
      ],
      "metadata": {
        "id": "MQvdc6JHRmpy"
      }
    },
    {
      "cell_type": "code",
      "source": [
        "import pandas as pd\n",
        "import numpy as np\n",
        "\n",
        "# URL del archivo CSV en el repositorio de GitHub\n",
        "url = 'https://github.com/rochactivo-UPC/dynLAB/raw/main/P3/ST_Data%20Base_Head%20Acceleration.csv'\n",
        "\n",
        "# Descargar el archivo CSV e importarlo en un DataFrame de Pandas\n",
        "# Los datos comienzan en la línea 8 (índice 7 en Python, ya que el índice comienza en 0)\n",
        "# Los encabezados están en la línea 6 (índice 5 en Python)\n",
        "df = pd.read_csv(url, header=0, sep='\\s+',skiprows={0,1,2,3,4,6})"
      ],
      "metadata": {
        "id": "sWFLM0CZRl5x"
      },
      "execution_count": null,
      "outputs": []
    },
    {
      "cell_type": "markdown",
      "source": [
        "# b) integrar las acelaraciones para obtener velocidades y desplazamientos\n",
        "Considere la velocidad inicial y el ángulo de proyección del impactor. Obsérvese que en este caso y a diferencia de la práctica 1 no hay una dirección del choque predominante con lo que deben tenerse en cuenta las aceleraciones en sus 3 componentes `x`, `y` y `z`. Se recomienda la utilización de la Regla de Simpson para la integración de las aceleraciones."
      ],
      "metadata": {
        "id": "pNnyZoh7Rxta"
      }
    },
    {
      "cell_type": "markdown",
      "source": [
        "**Pasos a realizar:**\n",
        "\n",
        "1.   Añadir una columna al dataframe con la componente vectorial de la aceleración, la raiz cuadrada se puede obtener con la función \"sqrt\" de la librería numpy. Para elevar un número \"x\" a alguna potencia \"y\" se utiliza el operador \"x**y\".\n"
      ],
      "metadata": {
        "id": "56q3W6D5oPA2"
      }
    },
    {
      "cell_type": "code",
      "source": [
        "# Añadir al dataframe una columna con el nombre acc_Magnitud  con la componente vectorial de la aceleración considerando X Y Z\n",
        "df['acc_Magnitud'] = np.sqrt(df['X']**2 + df['Y']**2 + df['Z']**2)"
      ],
      "metadata": {
        "id": "z_9latOoAlp_"
      },
      "execution_count": null,
      "outputs": []
    },
    {
      "cell_type": "markdown",
      "source": [
        "2.   integrar con la regla de simpson:"
      ],
      "metadata": {
        "id": "8YDZYODgAnwD"
      }
    },
    {
      "cell_type": "code",
      "source": [
        "from scipy.integrate import simps\n",
        "# La columna de tiempo está en la primera columna y es uniformemente espaciada\n",
        "time = df.iloc[:, 0]  # Ajusta el índice de la columna si el tiempo no está en la primera columna\n",
        "acc_magnitude = df['acc_Magnitud']\n",
        "\n",
        "# Integramos la magnitud de la aceleración con la regla de Simpson\n",
        "# Nota: Para usar simps, la cantidad de puntos debe ser impar. Si es par, se puede excluir el último punto.\n",
        "if len(time) % 2 == 0:\n",
        "    integral = simps(acc_magnitude[:-1], time[:-1])\n",
        "else:\n",
        "    integral = simps(acc_magnitude, time)\n",
        "\n",
        "# Mostrar el resultado de la integral\n",
        "print(\"La velocidad es:\", integral)"
      ],
      "metadata": {
        "id": "mWEZhC4GRxSK"
      },
      "execution_count": null,
      "outputs": []
    },
    {
      "cell_type": "markdown",
      "source": [
        "3.   Añadir el resultado de la integral al dataframe"
      ],
      "metadata": {
        "id": "ldLHr2paBdDl"
      }
    },
    {
      "cell_type": "code",
      "source": [
        "# Agregar el resultado de la integral en una nueva columna del DataFrame\n",
        "df['velocidad'] = integral\n",
        "# Mostrar el DataFrame actualizado\n",
        "df.head()"
      ],
      "metadata": {
        "id": "ENrdLkvSBX30"
      },
      "execution_count": null,
      "outputs": []
    },
    {
      "cell_type": "markdown",
      "source": [
        "4. Integrar de nuevo para obtener desplazamientos y añadirlos al dataframe (en casa)\n",
        "Nota: Calcular las velocidades y desplazamientos de las tres componentes X, Y y Z. Tomar en cuenta la velocidad inicial para cada componente considerando el ángulo de impacto."
      ],
      "metadata": {
        "id": "gmh7NdFHPOEe"
      }
    },
    {
      "cell_type": "code",
      "source": [],
      "metadata": {
        "id": "zNyC19aZPNBm"
      },
      "execution_count": null,
      "outputs": []
    },
    {
      "cell_type": "markdown",
      "source": [
        "# c) Determinar la fuerza en función del tiempo (En casa)\n",
        "Considérese si el sistema de referencia es o no inercial. Considérese la fuerza que recibe el impactor por parte de las estructuras del vehículo que frenan el impactor haciendo que pierda velocidad."
      ],
      "metadata": {
        "id": "HaWT1iVJR5As"
      }
    },
    {
      "cell_type": "code",
      "source": [],
      "metadata": {
        "id": "qQoymEdZR4R7"
      },
      "execution_count": null,
      "outputs": []
    },
    {
      "cell_type": "markdown",
      "source": [
        "# d) Calcular la energía absorbida por el choque (En casa)\n"
      ],
      "metadata": {
        "id": "yfNLNFJ1SIgF"
      }
    },
    {
      "cell_type": "code",
      "source": [],
      "metadata": {
        "id": "t--lcDgYSI11"
      },
      "execution_count": null,
      "outputs": []
    },
    {
      "cell_type": "markdown",
      "source": [
        "# e) Determinar mediante la ecuación, el valor de HIC\n",
        "Considere que los intervalos de tiempo para la integración son de 15 ms.\n",
        "\n",
        "$$HIC = \\max_{t_2 - t_1 \\leq 15\\ ms} \\left[ \\frac{1}{t_2 - t_1} \\int_{t_1}^{t_2} a(t) \\, dt \\right]^{2.5} (t_2 - t_1)$$\n",
        "\n",
        "\n",
        "Los datos proporcionados tienen intervalos de tiempo de 5x10-5 s. El intervalo de integración es de 15 ms con lo que la diferencia t2-t1 deben tomarse filas separadas por 300 filas (e.g. D304-D4). Se recomienda calcular el HIC por pasos:\n",
        "1. Cálculo del módulo de la aceleración\n",
        "2. Calculo de la integral definida $\\int_{t_1}^{t_2} a(t)$\n",
        "3. Multiplicación del resultado anterior por $1/(t_2-t_1 )$\n",
        "4. Elevar a 2,5 el resultado anterior\n",
        "5. Multiplicar el resultado anterior por $t2-t1$\n",
        "6. Cálculo del máximo del resultado anterior\n",
        "\n",
        "\n",
        "\n"
      ],
      "metadata": {
        "id": "HpRy4BCmSOC1"
      }
    },
    {
      "cell_type": "markdown",
      "source": [
        "La función de Python para calcular el HIC es la siguiente:\n"
      ],
      "metadata": {
        "id": "ARSGW1hoX7s2"
      }
    },
    {
      "cell_type": "code",
      "source": [
        "import numpy as np\n",
        "from scipy.integrate import simps\n",
        "\n",
        "def calculate_hic(acceleration, time):\n",
        "    \"\"\"\n",
        "    Calculate the Head Injury Criterion (HIC) for a given set of acceleration data over time.\n",
        "\n",
        "    Parameters:\n",
        "    - acceleration: array of acceleration values\n",
        "    - time: array of time values\n",
        "\n",
        "    Returns:\n",
        "    - The HIC value.\n",
        "    \"\"\"\n",
        "\n",
        "    # Inicializar la variable HIC a un número muy pequeño\n",
        "    hic = 0\n",
        "    # El tiempo de integración debe ser menor o igual a 15 ms\n",
        "    delta_t = 0.015\n",
        "    # Calcular la integral de la aceleración para cada intervalo de tiempo posible\n",
        "    for start in range(len(time)):\n",
        "        for end in range(start + 1, len(time)):\n",
        "            if time[end] - time[start] <= delta_t:\n",
        "                # Integrar la aceleración en el intervalo de tiempo dado\n",
        "                integral = simps(acceleration[start:end+1], time[start:end+1])\n",
        "                # Calcular el valor de HIC para este intervalo y elevarlo a 2.5\n",
        "                hic_candidate = (integral / (time[end] - time[start])) ** 2.5 * (time[end] - time[start])\n",
        "                # Actualizar HIC si encontramos un valor más grande\n",
        "                hic = max(hic, hic_candidate)\n",
        "\n",
        "    return hic"
      ],
      "metadata": {
        "id": "RfvljqWzX7LW"
      },
      "execution_count": null,
      "outputs": []
    },
    {
      "cell_type": "markdown",
      "source": [
        "antes de calcular el HIC con la función es necesario generar un array de numpy  con los datos de aceleración y tiempo. Para ello se puede usar la siguiente función de pandas:\n",
        "```\n",
        "arreglo = df['columna'].to_numpy()\n",
        "```\n",
        "\n"
      ],
      "metadata": {
        "id": "WkGnXNeLYiKQ"
      }
    },
    {
      "cell_type": "code",
      "source": [],
      "metadata": {
        "id": "Cxs8bvZ-tG8w"
      },
      "execution_count": null,
      "outputs": []
    },
    {
      "cell_type": "markdown",
      "source": [
        "Finalmente, se alimenta la función calculate_hic con los datos de entrada y se imprime el valor del HIC de la siguiente manera:"
      ],
      "metadata": {
        "id": "kVrEDKoAZVYh"
      }
    },
    {
      "cell_type": "code",
      "source": [
        "hic_value = calculate_hic(a, t)\n",
        "print(\"El valor de HIC es:\", hic_value)"
      ],
      "metadata": {
        "id": "hq3FV7tOZSU9"
      },
      "execution_count": null,
      "outputs": []
    }
  ]
}
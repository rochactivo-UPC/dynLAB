{
  "nbformat": 4,
  "nbformat_minor": 0,
  "metadata": {
    "colab": {
      "provenance": [],
      "authorship_tag": "ABX9TyPtFr0m4awKcKi21T6PS7YJ",
      "include_colab_link": true
    },
    "kernelspec": {
      "name": "python3",
      "display_name": "Python 3"
    },
    "language_info": {
      "name": "python"
    }
  },
  "cells": [
    {
      "cell_type": "markdown",
      "metadata": {
        "id": "view-in-github",
        "colab_type": "text"
      },
      "source": [
        "<a href=\"https://colab.research.google.com/github/rochactivo-UPC/dynLAB/blob/main/DinP2.ipynb\" target=\"_parent\"><img src=\"https://colab.research.google.com/assets/colab-badge.svg\" alt=\"Open In Colab\"/></a>"
      ]
    },
    {
      "cell_type": "markdown",
      "source": [
        "# Dinàmica – Práctica 2 – Desarrollo de un índice de daño\n",
        "\n",
        "\n",
        "---\n",
        "\n",
        "\n",
        "**Objetivos:**\n",
        "* A partir de un conjunto de experimentos de\n",
        "caída libre e impacto, determinar la probabilidad de diferentes tipos de daño.\n",
        "* Entender la existencia de factores aleatorios en las condiciones iniciales y las peculiaridades irrepetibles los especímenes  usados en la caída libre.\n",
        "* Entender la noción de regresión logística y su importancia para construir un índice de daño que prediga la probabilidad de ciertos escenarios de daño.\n",
        "\n",
        "**Tarea a realizar:**\n",
        "Considerar un conjunto de experimentos de caída libre y una evaluación de los daños sufridos por el espécimen, clasificar los daños y evaluar la probabilidad de cada tipo de daño en función de una variable mecánica pertinente.\n",
        "   \n",
        "Descripción de los pasos a realizar:\n",
        "\n",
        "\n",
        "1.   Obtención de los datos en Excel, recuento de los tipos de daños de cada tipo.\n",
        "La caída se hizo con una máquina especial que no le da velocidad inicial al huevo y lo deja caer a distintas alturas sobre una superficie de suelo flotante (parquet).\n",
        "2. Elección de un índice mecánico adecuado (altura, energía, velocidad, aceleración, etc).\n",
        "3. Construcción de una tabla de datos “índice mecánico” frente a “probabilidad de daño”.\n",
        "4. Ínice mecánico o índice de daño\n",
        "5. Realizar una regresión logística, vía Excel u otro software equivalente.\n",
        "6. Presentar las gráficas para cada tipo de daño y discutirlas brevemente.\n",
        "\n",
        "\n",
        "---\n",
        "\n"
      ],
      "metadata": {
        "id": "5atEPFhjjF2V"
      }
    },
    {
      "cell_type": "markdown",
      "source": [
        "## Un poco de input teórico:\n",
        "La figura muestra dos familias de datos de rotura de clavículas (el accidente más típico en competiciones de motociclismo). Los triángulos azules representan cargas de rotura de clavículas reales bajo compresión a baja velocidad, los círculos rojos por compresión a alta velocidad.\n",
        "\n",
        "Obviamente no parece existir una relación determinante entre $F$ y la ocurrencia de rotura, aunque se observa que en el caso dinámico el promedio de rotura es algo mayor.\n",
        "\n",
        "La idea básica es estimar la probabilidad como función de la fuerza:\n",
        "$$P_F = \\phi(F)$$\n",
        "\n",
        "Una forma matemáticamente conveniente para la función $\\phi(F)$  es la curva logística, que es una elección muy común en el desarrollo de curvas de riesgo, que viene dada por:\n",
        "$$P_F = \\frac{1}{1 + \\exp(\\alpha F + \\beta)}$$\n",
        "\n",
        "Donde los coeficientes $\\alpha$ y $\\beta$ se tiene que obtener mediante regresión. Esta forma funcional se puede arreglar un poco para convertirla en una expresión lineal:\n",
        "$$\\ln\\left(\\frac{1 - P_F}{P_F}\\right) = -\\alpha F + \\beta \\quad (*)$$\n",
        "\n",
        "Si consideramos la sucesión de cargas de fallo $F_1, F_2, \\ldots, F_n $ podemos construir esta tabla:\n",
        "\n",
        "\\begin{array}{|c|c|c|}\n",
        "\\hline\n",
        "Carga & Probabilidad\\,acumulada\\, (P_F) & Probit: \\ln\\left[\\frac{1-P_F}{P_F}\\right]\\\\\n",
        "\\hline\n",
        " F_1  &  1/n &   \\ln(n-1) \\\\\n",
        " F_2  &  2/n  &  \\ln\\left[\\frac{n-2}{2}\\right]/2  \\\\\n",
        "\\ldots & \\ldots & \\ldots \\\\\n",
        " F_{n-1}  &  (n-1)/n  &  \\ln\\left[\\frac{1}{n-1}\\right]  \\\\\n",
        " F_n  &  n/n  &  -  \\\\\n",
        "\\hline\n",
        "\\end{array}\n",
        "\n",
        "Ahora se puede hacer una regresión lineal simple entre la columna Probit (Y: variable dependiente) y la columna Carga (X: variable independiente). Así Excel u otro software nos proporcionará de manera directa $\\alpha$  y $\\beta$. El siguiente gráfico muestra estas operaciones para los datos de clavículas mostrados:\n",
        "\n",
        "\n",
        "A partir de los valores de $\\alpha$ y $\\beta$ pueden construirse sin dificultad las densidades de probabilidad (el primer gráfico de la página 2 da las curvas de riesgo que no son otra cosa que la función de distribución de probabilidad acumulada)\n"
      ],
      "metadata": {
        "id": "a-CJOe4Jo9JW"
      }
    },
    {
      "cell_type": "markdown",
      "source": [
        "## Importar librerias necesarias"
      ],
      "metadata": {
        "id": "qMz0xxW7DYVK"
      }
    },
    {
      "cell_type": "code",
      "execution_count": 35,
      "metadata": {
        "id": "PVLFLnEejEvg"
      },
      "outputs": [],
      "source": [
        "# Importar Librerías necesarias\n",
        "\n",
        "import numpy as np\n",
        "import matplotlib.pyplot as plt\n",
        "import pandas as pd\n",
        "from sklearn.linear_model import LinearRegression"
      ]
    },
    {
      "cell_type": "markdown",
      "source": [
        "## Descarga los datos"
      ],
      "metadata": {
        "id": "RaMBY1Jj5HCv"
      }
    },
    {
      "cell_type": "code",
      "source": [
        "# Asegúrate de haber subido el archivo a tu entorno de Colab primero\n",
        "file_path = 'eggDrop.csv' # si se carga desde el entorno\n",
        "df = pd.read_csv(file_path, sep='\\t', header=0, names=['Specimen', 'Country', 'Drop_Height', 'EIS1','EIS2','EIS3'])"
      ],
      "metadata": {
        "id": "I0JYtM4h57eV"
      },
      "execution_count": 36,
      "outputs": []
    },
    {
      "cell_type": "markdown",
      "source": [
        "## Cálculo de la probabilidad para cada evento"
      ],
      "metadata": {
        "id": "fD0i2AZsDeYa"
      }
    },
    {
      "cell_type": "code",
      "source": [
        "# Calcular la probabilidad acumulada para cada evento EIS\n",
        "\n",
        "df['Prob_Acum_EIS1'] = df['EIS1'].cumsum() / len(df)\n",
        "df['Prob_Acum_EIS2'] = df['EIS2'].cumsum() / len(df)\n",
        "df['Prob_Acum_EIS3'] = df['EIS3'].cumsum() / len(df)"
      ],
      "metadata": {
        "id": "udLZBkktaMc9"
      },
      "execution_count": 38,
      "outputs": []
    },
    {
      "cell_type": "markdown",
      "source": [
        "## Calcular Probits"
      ],
      "metadata": {
        "id": "vwQwWuRCCn0N"
      }
    },
    {
      "cell_type": "code",
      "source": [
        "df['Probit_EIS1'] = np.log((1 - df['Prob_Acum_EIS1']) / df['Prob_Acum_EIS1'])\n",
        "df['Probit_EIS2'] = np.log((1 - df['Prob_Acum_EIS2']) / df['Prob_Acum_EIS2'])\n",
        "df['Probit_EIS3'] = np.log((1 - df['Prob_Acum_EIS3']) / df['Prob_Acum_EIS3'])"
      ],
      "metadata": {
        "id": "PSsXOyD3wv2s"
      },
      "execution_count": 39,
      "outputs": []
    },
    {
      "cell_type": "markdown",
      "source": [
        "## Ordenar datos y limpiarlos para realizar las regresiones lieales"
      ],
      "metadata": {
        "id": "7Ism97g3Cyjj"
      }
    },
    {
      "cell_type": "code",
      "source": [
        "new_df = df.copy()\n",
        "new_df.replace([np.inf, -np.inf], np.nan, inplace=True)  # Reemplazar infinitos con NaN\n",
        "new_df.dropna(subset=['Probit_EIS1'], inplace=True) # Eliminar filas con NaN de 'Probit_EIS1'\n",
        "\n",
        "df1 = new_df.copy()\n",
        "new_df.dropna(subset=['Probit_EIS2'], inplace=True)\n",
        "df2 = new_df.copy()\n",
        "new_df.dropna(subset=['Probit_EIS3'], inplace=True)\n",
        "df3 = new_df.copy()"
      ],
      "metadata": {
        "id": "brFBNNYhaPWs"
      },
      "execution_count": 40,
      "outputs": []
    },
    {
      "cell_type": "markdown",
      "source": [
        "## Regresiones lineales"
      ],
      "metadata": {
        "id": "KY-jjz8cC-LO"
      }
    },
    {
      "cell_type": "code",
      "source": [
        "# Realizar regresiones lineales\n",
        "# Asumiendo que X es el predictor (reemplaza 'X' con la columna de predictor real de tu conjunto de datos)\n",
        "# También asumiendo que 'X' ya está en tu dataframe y es la variable independiente para la regresión (altura)\n",
        "X = df1[['Drop_Height']].values  # Debe ser en forma de array 2D\n",
        "\n",
        "# Diccionario para guardar los resultados de las regresiones lineales\n",
        "regression_results = {}\n",
        "\n",
        "y = df1['Probit_EIS1'].values  # Variable dependiente para la regresión\n",
        "model = LinearRegression()\n",
        "model.fit(X, y)\n",
        "\n",
        "# Guardar coeficiente, intercepción y score R^2 para cada EIS\n",
        "alfa = model.coef_[0]\n",
        "beta = model.intercept_\n",
        "R_2 = model.score(X, y)\n",
        "\n",
        "# Imprimir los resultados de la regresión\n",
        "print(f'  Resultados de la regresión para: EIS1')\n",
        "print(f\"  Coeficiente (Pendiente): {alfa}\")\n",
        "print(f\"  Intercepcion: {beta}\")\n",
        "print(f\"  R^2: {R_2}\\n\")\n",
        "\n",
        "    # Visualización (opcional)\n",
        "plt.scatter(X, y, color='blue')         # Datos originales\n",
        "plt.plot(X, model.predict(X), color='red')  # Línea de regresión\n",
        "plt.xlabel('Altura (cm)')\n",
        "plt.ylabel('Pobit')\n",
        "plt.title('Regresión Lineal para EIS1')\n",
        "plt.show()"
      ],
      "metadata": {
        "id": "W6DMR_gz6BCK"
      },
      "execution_count": null,
      "outputs": []
    },
    {
      "cell_type": "markdown",
      "source": [
        "## Generación de curvas de fragilidad"
      ],
      "metadata": {
        "id": "y5xNI3PoDIOj"
      }
    },
    {
      "cell_type": "code",
      "source": [
        "# Generar las curvas de fragilidad para una altura de caída de 0 a 250cm, cada cm\n",
        "# Generar valores de para la predicción de la curva de fragilidad\n",
        "X_test = np.linspace(0, 250, 250)\n",
        "\n",
        "# Calcular la probabilidad de fallo para cada valor de altura\n",
        "y_pred = 1/(1+np.exp(alfa*X_test+beta))\n",
        "\n",
        "# Graficar la curva de fragilidad\n",
        "plt.figure(figsize=(10, 6))\n",
        "plt.plot(X_test, y_pred, label='EIS1')\n",
        "# plt.scatter(X, y, marker='o', color='red', label='Datos Reales')\n",
        "plt.xlabel('Altura (cm)')\n",
        "plt.ylabel('Probabilidad de Fallo')\n",
        "plt.title('Curva de Fragilidad')\n",
        "plt.xlim([0,250])\n",
        "plt.ylim([0,1])\n",
        "plt.legend()\n",
        "plt.grid(True)\n",
        "plt.show()"
      ],
      "metadata": {
        "id": "iFIEl2uEBPXw"
      },
      "execution_count": null,
      "outputs": []
    }
  ]
}